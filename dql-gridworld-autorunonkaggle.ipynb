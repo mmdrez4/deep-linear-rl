{
  "metadata": {
    "kernelspec": {
      "name": "python3",
      "display_name": "Python 3",
      "language": "python"
    },
    "language_info": {
      "name": "python",
      "version": "3.10.14",
      "mimetype": "text/x-python",
      "codemirror_mode": {
        "name": "ipython",
        "version": 3
      },
      "pygments_lexer": "ipython3",
      "nbconvert_exporter": "python",
      "file_extension": ".py"
    },
    "colab": {
      "provenance": [],
      "collapsed_sections": [
        "W3Gq3o_bGy10",
        "ArzuUc8WFVOs",
        "joqj9DFyFkcq",
        "6LaO9SJLFo7p",
        "xH3J2_azF2Xh",
        "Wq2snh0iFuqi",
        "fek2zIOuF5Me",
        "8sYE30Ry5bsn"
      ],
      "gpuType": "T4"
    },
    "accelerator": "GPU",
    "kaggle": {
      "accelerator": "nvidiaTeslaT4",
      "dataSources": [],
      "dockerImageVersionId": 30787,
      "isInternetEnabled": true,
      "language": "python",
      "sourceType": "notebook",
      "isGpuEnabled": true
    }
  },
  "nbformat_minor": 0,
  "nbformat": 4,
  "cells": [
    {
      "cell_type": "code",
      "source": [
        "# Restart the session after running this cell (Run it once!)\n",
        "!git clone https://github.com/sparisi/gym_gridworlds\n",
        "!pip install ./gym_gridworlds"
      ],
      "metadata": {
        "colab": {
          "base_uri": "https://localhost:8080/"
        },
        "id": "hlY9Ig2pE5qj",
        "outputId": "7013f056-b0cd-4696-93f5-47128855e095",
        "execution": {
          "iopub.status.busy": "2024-11-14T02:25:56.867025Z",
          "iopub.execute_input": "2024-11-14T02:25:56.867424Z",
          "iopub.status.idle": "2024-11-14T02:26:16.039713Z",
          "shell.execute_reply.started": "2024-11-14T02:25:56.867384Z",
          "shell.execute_reply": "2024-11-14T02:26:16.038669Z"
        },
        "trusted": true
      },
      "execution_count": 1,
      "outputs": [
        {
          "output_type": "stream",
          "name": "stdout",
          "text": [
            "Cloning into 'gym_gridworlds'...\n",
            "remote: Enumerating objects: 166, done.\u001b[K\n",
            "remote: Counting objects: 100% (27/27), done.\u001b[K\n",
            "remote: Compressing objects: 100% (10/10), done.\u001b[K\n",
            "remote: Total 166 (delta 22), reused 17 (delta 17), pack-reused 139 (from 1)\u001b[K\n",
            "Receiving objects: 100% (166/166), 68.22 KiB | 2.44 MiB/s, done.\n",
            "Resolving deltas: 100% (86/86), done.\n",
            "Processing ./gym_gridworlds\n",
            "  Preparing metadata (setup.py) ... \u001b[?25l\u001b[?25hdone\n",
            "Collecting gymnasium (from Gym-Gridworlds==1.0)\n",
            "  Downloading gymnasium-1.0.0-py3-none-any.whl.metadata (9.5 kB)\n",
            "Requirement already satisfied: pygame in /usr/local/lib/python3.10/dist-packages (from Gym-Gridworlds==1.0) (2.6.1)\n",
            "Requirement already satisfied: numpy>=1.21.0 in /usr/local/lib/python3.10/dist-packages (from gymnasium->Gym-Gridworlds==1.0) (1.26.4)\n",
            "Requirement already satisfied: cloudpickle>=1.2.0 in /usr/local/lib/python3.10/dist-packages (from gymnasium->Gym-Gridworlds==1.0) (3.1.0)\n",
            "Requirement already satisfied: typing-extensions>=4.3.0 in /usr/local/lib/python3.10/dist-packages (from gymnasium->Gym-Gridworlds==1.0) (4.12.2)\n",
            "Collecting farama-notifications>=0.0.1 (from gymnasium->Gym-Gridworlds==1.0)\n",
            "  Downloading Farama_Notifications-0.0.4-py3-none-any.whl.metadata (558 bytes)\n",
            "Downloading gymnasium-1.0.0-py3-none-any.whl (958 kB)\n",
            "\u001b[2K   \u001b[90m━━━━━━━━━━━━━━━━━━━━━━━━━━━━━━━━━━━━━━━━\u001b[0m \u001b[32m958.1/958.1 kB\u001b[0m \u001b[31m9.3 MB/s\u001b[0m eta \u001b[36m0:00:00\u001b[0m\n",
            "\u001b[?25hDownloading Farama_Notifications-0.0.4-py3-none-any.whl (2.5 kB)\n",
            "Building wheels for collected packages: Gym-Gridworlds\n",
            "  Building wheel for Gym-Gridworlds (setup.py) ... \u001b[?25l\u001b[?25hdone\n",
            "  Created wheel for Gym-Gridworlds: filename=Gym_Gridworlds-1.0-py3-none-any.whl size=15432 sha256=ee909830bfea22a062442fa2b378e642fd3d0ae3f8f5c3acd80f21354587b13a\n",
            "  Stored in directory: /tmp/pip-ephem-wheel-cache-boh5e2aw/wheels/35/b6/53/d1fcfbb39d514897bf6fbae43c1b74a9f3c71ff4f92c6d32d3\n",
            "Successfully built Gym-Gridworlds\n",
            "Installing collected packages: farama-notifications, gymnasium, Gym-Gridworlds\n",
            "Successfully installed Gym-Gridworlds-1.0 farama-notifications-0.0.4 gymnasium-1.0.0\n"
          ]
        }
      ]
    },
    {
      "cell_type": "code",
      "source": [
        "import importlib.machinery\n",
        "import imp\n",
        "loader = importlib.machinery.SourceFileLoader(\"gym_gridworlds\", '/kaggle/working/gym_gridworlds/gym_gridworlds/__init__.py')\n",
        "handle = loader.load_module(\"gym_gridworlds\")\n",
        "imp.reload(handle)"
      ],
      "metadata": {
        "execution": {
          "iopub.status.busy": "2024-11-14T02:26:16.041909Z",
          "iopub.execute_input": "2024-11-14T02:26:16.042253Z",
          "iopub.status.idle": "2024-11-14T02:26:16.653710Z",
          "shell.execute_reply.started": "2024-11-14T02:26:16.042216Z",
          "shell.execute_reply": "2024-11-14T02:26:16.652693Z"
        },
        "trusted": true,
        "colab": {
          "base_uri": "https://localhost:8080/"
        },
        "id": "nv6HDbR2z7cg",
        "outputId": "952c5c46-14d3-4bda-bc92-f41a824ac063"
      },
      "execution_count": 86,
      "outputs": [
        {
          "output_type": "execute_result",
          "data": {
            "text/plain": [
              "<module 'gym_gridworlds' from '/usr/local/lib/python3.10/dist-packages/gym_gridworlds/__init__.py'>"
            ]
          },
          "metadata": {},
          "execution_count": 86
        }
      ]
    },
    {
      "cell_type": "code",
      "source": [
        "import importlib.machinery\n",
        "import imp\n",
        "loader = importlib.machinery.SourceFileLoader(\"gym_gridworlds\", '/kaggle/working/gym_gridworlds/gym_gridworlds/gridworld.py')\n",
        "handle = loader.load_module(\"gym_gridworlds\")\n",
        "imp.reload(handle)"
      ],
      "metadata": {
        "execution": {
          "iopub.status.busy": "2024-11-14T02:26:16.655026Z",
          "iopub.execute_input": "2024-11-14T02:26:16.655367Z",
          "iopub.status.idle": "2024-11-14T02:26:16.670679Z",
          "shell.execute_reply.started": "2024-11-14T02:26:16.655329Z",
          "shell.execute_reply": "2024-11-14T02:26:16.669706Z"
        },
        "trusted": true,
        "colab": {
          "base_uri": "https://localhost:8080/"
        },
        "id": "APwj55qgz7cg",
        "outputId": "c90b5b10-1311-4b94-967c-abb0f482351f"
      },
      "execution_count": 87,
      "outputs": [
        {
          "output_type": "execute_result",
          "data": {
            "text/plain": [
              "<module 'gym_gridworlds' from '/usr/local/lib/python3.10/dist-packages/gym_gridworlds/__init__.py'>"
            ]
          },
          "metadata": {},
          "execution_count": 87
        }
      ]
    },
    {
      "cell_type": "markdown",
      "source": [
        "# Register Envoronments in Gym"
      ],
      "metadata": {
        "id": "W3Gq3o_bGy10"
      }
    },
    {
      "cell_type": "code",
      "source": [
        "from gymnasium.envs.registration import register\n",
        "\n",
        "register(\n",
        "    id=\"Gym-Gridworlds/Straight-20-v0\",\n",
        "    entry_point=\"gym_gridworlds.gridworld:Gridworld\",\n",
        "    max_episode_steps=200,\n",
        "    kwargs={\n",
        "        \"grid\": \"20_straight\",\n",
        "    },\n",
        ")\n",
        "\n",
        "register(\n",
        "    id=\"Gym-Gridworlds/Empty-2x2-v0\",\n",
        "    entry_point=\"gym_gridworlds.gridworld:GridworldRandomStart\",\n",
        "    max_episode_steps=10,\n",
        "    kwargs={\n",
        "        \"grid\": \"2x2_empty\",\n",
        "    },\n",
        ")\n",
        "\n",
        "register(\n",
        "    id=\"Gym-Gridworlds/Empty-3x3-v0\",\n",
        "    entry_point=\"gym_gridworlds.gridworld:GridworldRandomStart\",\n",
        "    max_episode_steps=50,\n",
        "    kwargs={\n",
        "        \"grid\": \"3x3_empty\",\n",
        "    },\n",
        ")\n",
        "\n",
        "register(\n",
        "    id=\"Gym-Gridworlds/Empty-Loop-3x3-v0\",\n",
        "    entry_point=\"gym_gridworlds.gridworld:Gridworld\",\n",
        "    max_episode_steps=50,\n",
        "    kwargs={\n",
        "        \"grid\": \"3x3_empty_loop\",\n",
        "    },\n",
        ")\n",
        "\n",
        "register(\n",
        "    id=\"Gym-Gridworlds/Empty-10x10-v0\",\n",
        "    entry_point=\"gym_gridworlds.gridworld:Gridworld\",\n",
        "    max_episode_steps=100,\n",
        "    kwargs={\n",
        "        \"grid\": \"10x10_empty\",\n",
        "    },\n",
        ")\n",
        "\n",
        "register(\n",
        "    id=\"Gym-Gridworlds/Empty-Distract-6x6-v0\",\n",
        "    entry_point=\"gym_gridworlds.gridworld:Gridworld\",\n",
        "    max_episode_steps=50,\n",
        "    kwargs={\n",
        "        \"grid\": \"6x6_distract\",\n",
        "    },\n",
        ")\n",
        "\n",
        "register(\n",
        "    id=\"Gym-Gridworlds/Penalty-3x3-v0\",\n",
        "    entry_point=\"gym_gridworlds.gridworld:Gridworld\",\n",
        "    max_episode_steps=50,\n",
        "    kwargs={\n",
        "        \"grid\": \"3x3_penalty\",\n",
        "    },\n",
        ")\n",
        "\n",
        "register(\n",
        "    id=\"Gym-Gridworlds/Quicksand-4x4-v0\",\n",
        "    entry_point=\"gym_gridworlds.gridworld:Gridworld\",\n",
        "    max_episode_steps=50,\n",
        "    kwargs={\n",
        "        \"grid\": \"4x4_quicksand\",\n",
        "    },\n",
        ")\n",
        "\n",
        "register(\n",
        "    id=\"Gym-Gridworlds/Quicksand-Distract-4x4-v0\",\n",
        "    entry_point=\"gym_gridworlds.gridworld:Gridworld\",\n",
        "    max_episode_steps=50,\n",
        "    kwargs={\n",
        "        \"grid\": \"4x4_quicksand_distract\",\n",
        "    },\n",
        ")\n",
        "\n",
        "register(\n",
        "    id=\"Gym-Gridworlds/TwoRoom-Quicksand-3x5-v0\",\n",
        "    entry_point=\"gym_gridworlds.gridworld:Gridworld\",\n",
        "    max_episode_steps=50,\n",
        "    kwargs={\n",
        "        \"grid\": \"3x5_two_room_quicksand\",\n",
        "    },\n",
        ")\n",
        "\n",
        "register(\n",
        "    id=\"Gym-Gridworlds/Corridor-3x4-v0\",\n",
        "    entry_point=\"gym_gridworlds.gridworld:Gridworld\",\n",
        "    max_episode_steps=50,\n",
        "    kwargs={\n",
        "        \"grid\": \"3x4_corridor\",\n",
        "    },\n",
        ")\n",
        "register(\n",
        "    id=\"Gym-Gridworlds/Full-4x5-v0\",\n",
        "    entry_point=\"gym_gridworlds.gridworld:Gridworld\",\n",
        "    max_episode_steps=50,\n",
        "    kwargs={\n",
        "        \"grid\": \"4x5_full\",\n",
        "    },\n",
        ")\n",
        "\n",
        "register(\n",
        "    id=\"Gym-Gridworlds/TwoRoom-Distract-Middle-2x11-v0\",\n",
        "    entry_point=\"gym_gridworlds.gridworld:GridworldMiddleStart\",\n",
        "    max_episode_steps=200,\n",
        "    kwargs={\n",
        "        \"grid\": \"2x11_two_room_distract\",\n",
        "    },\n",
        ")\n",
        "\n",
        "register(\n",
        "    id=\"Gym-Gridworlds/Barrier-5x5-v0\",\n",
        "    entry_point=\"gym_gridworlds.gridworld:Gridworld\",\n",
        "    max_episode_steps=50,\n",
        "    kwargs={\n",
        "        \"grid\": \"5x5_barrier\",\n",
        "    },\n",
        ")\n",
        "\n",
        "register(\n",
        "    id=\"Gym-Gridworlds/RiverSwim-6-v0\",\n",
        "    entry_point=\"gym_gridworlds.gridworld:RiverSwim\",\n",
        "    max_episode_steps=200,\n",
        "    kwargs={\n",
        "        \"grid\": \"river_swim_6\",\n",
        "    },\n",
        ")\n",
        "\n",
        "register(\n",
        "    id=\"Gym-Gridworlds/CliffWalk-4x12-v0\",\n",
        "    entry_point=\"gym_gridworlds.gridworld:Gridworld\",\n",
        "    max_episode_steps=200,\n",
        "    kwargs={\n",
        "        \"grid\": \"4x12_cliffwalk\",\n",
        "    },\n",
        ")\n",
        "\n",
        "register(\n",
        "    id=\"Gym-Gridworlds/DangerMaze-6x6-v0\",\n",
        "    entry_point=\"gym_gridworlds.gridworld:Gridworld\",\n",
        "    max_episode_steps=200,\n",
        "    kwargs={\n",
        "        \"grid\": \"6x6_danger_maze\",\n",
        "    },\n",
        ")"
      ],
      "metadata": {
        "id": "JngHQiknE_hC",
        "execution": {
          "iopub.status.busy": "2024-11-14T02:26:41.158677Z",
          "iopub.execute_input": "2024-11-14T02:26:41.159074Z",
          "iopub.status.idle": "2024-11-14T02:26:41.176415Z",
          "shell.execute_reply.started": "2024-11-14T02:26:41.159037Z",
          "shell.execute_reply": "2024-11-14T02:26:41.175559Z"
        },
        "trusted": true
      },
      "execution_count": 5,
      "outputs": []
    },
    {
      "cell_type": "markdown",
      "source": [
        "# Import Libraries"
      ],
      "metadata": {
        "id": "ArzuUc8WFVOs"
      }
    },
    {
      "cell_type": "code",
      "source": [
        "import numpy as np\n",
        "import torch\n",
        "import torch.nn as nn\n",
        "torch._dynamo.config.suppress_errors = True\n",
        "import torch.optim as optim\n",
        "import torch.nn.functional as F\n",
        "import random\n",
        "from collections import namedtuple, deque\n",
        "import gym\n",
        "import gymnasium\n",
        "from tqdm import trange\n",
        "import matplotlib.pyplot as plt\n",
        "import json"
      ],
      "metadata": {
        "id": "HaIz8uDLTyZY",
        "execution": {
          "iopub.status.busy": "2024-11-14T02:26:44.644370Z",
          "iopub.execute_input": "2024-11-14T02:26:44.644770Z",
          "iopub.status.idle": "2024-11-14T02:26:49.494187Z",
          "shell.execute_reply.started": "2024-11-14T02:26:44.644730Z",
          "shell.execute_reply": "2024-11-14T02:26:49.493371Z"
        },
        "trusted": true
      },
      "execution_count": 88,
      "outputs": []
    },
    {
      "cell_type": "code",
      "source": [
        "device = torch.device(\"cuda\" if torch.cuda.is_available() else \"cpu\")\n",
        "print(device)"
      ],
      "metadata": {
        "colab": {
          "base_uri": "https://localhost:8080/"
        },
        "id": "WS8cWkmWGi4K",
        "outputId": "23fd3f48-8c99-4869-fc5d-a5492f3a0763",
        "execution": {
          "iopub.status.busy": "2024-11-14T02:26:49.495805Z",
          "iopub.execute_input": "2024-11-14T02:26:49.496205Z",
          "iopub.status.idle": "2024-11-14T02:26:49.554475Z",
          "shell.execute_reply.started": "2024-11-14T02:26:49.496169Z",
          "shell.execute_reply": "2024-11-14T02:26:49.553393Z"
        },
        "trusted": true
      },
      "execution_count": 7,
      "outputs": [
        {
          "output_type": "stream",
          "name": "stdout",
          "text": [
            "cuda\n"
          ]
        },
        {
          "output_type": "stream",
          "name": "stderr",
          "text": [
            "/usr/local/lib/python3.10/dist-packages/ipykernel/ipkernel.py:283: DeprecationWarning: `should_run_async` will not call `transform_cell` automatically in the future. Please pass the result to `transformed_cell` argument and any exception that happen during thetransform in `preprocessing_exc_tuple` in IPython 7.17 and above.\n",
            "  and should_run_async(code)\n"
          ]
        }
      ]
    },
    {
      "cell_type": "code",
      "source": [
        "import warnings\n",
        "warnings.filterwarnings('ignore')"
      ],
      "metadata": {
        "id": "Kbdag6O4WFIj",
        "execution": {
          "iopub.status.busy": "2024-11-14T02:26:49.555699Z",
          "iopub.execute_input": "2024-11-14T02:26:49.556006Z",
          "iopub.status.idle": "2024-11-14T02:26:49.565751Z",
          "shell.execute_reply.started": "2024-11-14T02:26:49.555973Z",
          "shell.execute_reply": "2024-11-14T02:26:49.564900Z"
        },
        "trusted": true
      },
      "execution_count": 8,
      "outputs": []
    },
    {
      "cell_type": "markdown",
      "source": [
        "# Network"
      ],
      "metadata": {
        "id": "6LaO9SJLFo7p"
      }
    },
    {
      "cell_type": "code",
      "source": [
        "# Define the neural network model\n",
        "class QNetwork(nn.Module):\n",
        "    def __init__(self, state_size, action_size, seed, depth, fc_unit, final_layer_unit):\n",
        "        super().__init__()\n",
        "        self.seed = torch.manual_seed(seed)\n",
        "        #self.feature_size = self.feature_extract_init(state_size, action_size)\n",
        "\n",
        "        self.layers = nn.ModuleList()\n",
        "        for i in range(depth):\n",
        "            if depth == 1:\n",
        "                self.layers.append(nn.Linear(state_size, final_layer_unit))\n",
        "            elif i == 0:\n",
        "                self.layers.append(nn.Linear(state_size, fc_unit))\n",
        "            elif i == depth - 1:\n",
        "                self.layers.append(nn.Linear(fc_unit, final_layer_unit))\n",
        "            else:\n",
        "                self.layers.append(nn.Linear(fc_unit, fc_unit))\n",
        "\n",
        "        for layer in self.layers:\n",
        "          self.init_weights(layer)\n",
        "\n",
        "        if depth > 0:\n",
        "          self.final_layer = nn.Linear(final_layer_unit, action_size)\n",
        "        else:\n",
        "          self.final_layer = nn.Linear(state_size, action_size)\n",
        "\n",
        "        #nn.init.zeros_(self.final_layer.weight)\n",
        "        #nn.init.zeros_(self.final_layer.bias)\n",
        "        self.init_weights(self.final_layer)\n",
        "\n",
        "    def init_weights(self, layer):\n",
        "        nn.init.xavier_normal(layer.weight)\n",
        "        self.to(device)\n",
        "\n",
        "    # def feature_extract_init(self, state_size, action_size):\n",
        "    #     n_centers = [10, 10]\n",
        "    #     centers = np.array(\n",
        "    #       np.meshgrid(*[\n",
        "    #           np.linspace(env.observation_space.low[i], env.observation_space.high[i], n_centers[i])\n",
        "    #           for i in range(env.observation_space.shape[0])\n",
        "    #       ])\n",
        "    #     ).reshape(env.observation_space.shape[0], -1).T\n",
        "    #     centers = torch.tensor(centers).float().to(device)\n",
        "    #     self.feature_name, self.feature_extract = \"Aggregate\", lambda state : aggregation_features(state.reshape(-1, state_size), centers)\n",
        "    #     #self.feature_name, self.feature_extract = \"RBF\", lambda state : rbf_features(state.reshape(-1, state_size), centers, 0.2)\n",
        "    #     return self.feature_extract(env.reset()[0]).shape[1]\n",
        "\n",
        "\n",
        "    def forward(self, state):\n",
        "        #x = self.feature_extract(state)\n",
        "        x = state\n",
        "        for layer in self.layers:\n",
        "            x = layer(x)\n",
        "        return self.final_layer(x)\n"
      ],
      "metadata": {
        "id": "k6kdTlQtHlmF",
        "execution": {
          "iopub.status.busy": "2024-11-14T02:26:53.814498Z",
          "iopub.execute_input": "2024-11-14T02:26:53.814899Z",
          "iopub.status.idle": "2024-11-14T02:26:53.829454Z",
          "shell.execute_reply.started": "2024-11-14T02:26:53.814863Z",
          "shell.execute_reply": "2024-11-14T02:26:53.828540Z"
        },
        "trusted": true
      },
      "execution_count": 21,
      "outputs": []
    },
    {
      "cell_type": "markdown",
      "source": [
        "# ReplayBuffer"
      ],
      "metadata": {
        "id": "xH3J2_azF2Xh"
      }
    },
    {
      "cell_type": "code",
      "source": [
        "class ReplayBuffer:\n",
        "    def __init__(self, action_size, buffer_size, batch_size, seed):\n",
        "        self.action_size = action_size\n",
        "        self.memory = deque(maxlen=buffer_size)\n",
        "        self.batch_size = batch_size\n",
        "        self.experience = namedtuple(\"Experience\", field_names=[\"state\", \"action\", \"reward\", \"next_state\", \"done\"])\n",
        "        self.seed = random.seed(seed)\n",
        "\n",
        "    def add(self, state, action, reward, next_state, done):\n",
        "        e = self.experience(state, action, reward, next_state, done)\n",
        "        self.memory.append(e)\n",
        "\n",
        "    def sample(self):\n",
        "        experiences = random.sample(self.memory, k=self.batch_size)\n",
        "\n",
        "        states = torch.from_numpy(np.vstack([e.state for e in experiences if e is not None])).float().to(device)\n",
        "        actions = torch.from_numpy(np.vstack([e.action for e in experiences if e is not None])).long().to(device)\n",
        "        rewards = torch.from_numpy(np.vstack([e.reward for e in experiences if e is not None])).float().to(device)\n",
        "        next_states = torch.from_numpy(np.vstack([e.next_state for e in experiences if e is not None])).float().to(device)\n",
        "        dones = torch.from_numpy(np.vstack([e.done for e in experiences if e is not None]).astype(np.uint8)).float().to(device)\n",
        "\n",
        "        return (states, actions, rewards, next_states, dones)\n",
        "\n",
        "    def __len__(self):\n",
        "        return len(self.memory)"
      ],
      "metadata": {
        "id": "WUEjnATTF0PM",
        "execution": {
          "iopub.status.busy": "2024-11-14T02:26:55.626985Z",
          "iopub.execute_input": "2024-11-14T02:26:55.627691Z",
          "iopub.status.idle": "2024-11-14T02:26:55.638667Z",
          "shell.execute_reply.started": "2024-11-14T02:26:55.627647Z",
          "shell.execute_reply": "2024-11-14T02:26:55.637665Z"
        },
        "trusted": true
      },
      "execution_count": 10,
      "outputs": []
    },
    {
      "cell_type": "markdown",
      "source": [
        "# DQN"
      ],
      "metadata": {
        "id": "Wq2snh0iFuqi"
      }
    },
    {
      "cell_type": "code",
      "source": [
        "# Define the DQN agent class\n",
        "class DQNAgent:\n",
        "    # Initialize the DQN agent\n",
        "    def __init__(self, state_size, action_size, seed, lr, network):\n",
        "        self.state_size = state_size\n",
        "        self.action_size = action_size\n",
        "        self.seed = random.seed(seed)\n",
        "\n",
        "        self.qnetwork_local = QNetwork(state_size, action_size, seed, network[\"depth\"], network[\"fc_units\"], network[\"final_fc_units\"]).to(device)\n",
        "        self.qnetwork_target = QNetwork(state_size, action_size, seed, network[\"depth\"], network[\"fc_units\"], network[\"final_fc_units\"]).to(device)\n",
        "        self.optimizer = optim.Adam(self.qnetwork_local.parameters(), lr)\n",
        "\n",
        "        self.memory = ReplayBuffer(action_size, buffer_size=int(1e5), batch_size=64, seed=seed)\n",
        "        self.t_step = 0\n",
        "\n",
        "    def step(self, state, action, reward, next_state, done):\n",
        "        self.memory.add(state, action, reward, next_state, done)\n",
        "\n",
        "        self.t_step = (self.t_step + 1) % 4\n",
        "        if self.t_step == 0:\n",
        "            if len(self.memory) > 64:\n",
        "                experiences = self.memory.sample()\n",
        "                self.learn(experiences, gamma=0.99)\n",
        "\n",
        "    # Choose an action based on the current state\n",
        "    def act(self, state, eps=0.):\n",
        "        #print(state)\n",
        "        state_tensor = torch.from_numpy(state).float().unsqueeze(0).to(device)\n",
        "        self.qnetwork_local.eval()\n",
        "        with torch.no_grad():\n",
        "            action_values = self.qnetwork_local(state_tensor)\n",
        "        self.qnetwork_local.train()\n",
        "\n",
        "        if np.random.random() > eps:\n",
        "            return action_values.argmax(dim=1).item()\n",
        "        else:\n",
        "            return np.random.randint(self.action_size)\n",
        "\n",
        "    # Learn from batch of experiences\n",
        "    def learn(self, experiences, gamma):\n",
        "        states, actions, rewards, next_states, dones = zip(*experiences)\n",
        "        states = torch.from_numpy(np.vstack(states)).float().to(device)\n",
        "        actions = torch.from_numpy(np.vstack(actions)).long().to(device)\n",
        "        rewards = torch.from_numpy(np.vstack(rewards)).float().to(device)\n",
        "        next_states = torch.from_numpy(np.vstack(next_states)).float().to(device)\n",
        "        dones = torch.from_numpy(np.vstack(dones).astype(np.uint8)).float().to(device)\n",
        "\n",
        "        Q_targets_next = self.qnetwork_target(next_states).detach().max(1)[0].unsqueeze(1)\n",
        "        Q_targets = rewards + (gamma * Q_targets_next * (1 - dones))\n",
        "\n",
        "        Q_expected = self.qnetwork_local(states).gather(1, actions)\n",
        "\n",
        "        loss = F.mse_loss(Q_expected, Q_targets)\n",
        "        self.optimizer.zero_grad()\n",
        "        loss.backward()\n",
        "        self.optimizer.step()\n",
        "\n",
        "        self.soft_update(self.qnetwork_local, self.qnetwork_target, tau=1e-3)\n",
        "\n",
        "        return loss\n",
        "\n",
        "    def soft_update(self, local_model, target_model, tau):\n",
        "        for target_param, local_param in zip(target_model.parameters(), local_model.parameters()):\n",
        "            target_param.data.copy_(tau * local_param.data + (1.0 - tau) * target_param.data)"
      ],
      "metadata": {
        "id": "SMqPt_ruIG59",
        "execution": {
          "iopub.status.busy": "2024-11-14T02:26:56.955665Z",
          "iopub.execute_input": "2024-11-14T02:26:56.956053Z",
          "iopub.status.idle": "2024-11-14T02:26:56.973804Z",
          "shell.execute_reply.started": "2024-11-14T02:26:56.956015Z",
          "shell.execute_reply": "2024-11-14T02:26:56.972785Z"
        },
        "trusted": true
      },
      "execution_count": 105,
      "outputs": []
    },
    {
      "cell_type": "markdown",
      "source": [
        "# Hyperparameters"
      ],
      "metadata": {
        "id": "WxOD0rGTF_Ee"
      }
    },
    {
      "cell_type": "code",
      "source": [
        "num_episodes = 4000\n",
        "max_steps_per_episode_train = 100\n",
        "max_steps_per_episode_eval = 25\n",
        "epsilon_start = 1.0\n",
        "epsilon_end = 0.05\n",
        "epsilon_decay_rate = 0.995\n",
        "gamma = 0.9\n",
        "lr = 1e-5\n",
        "buffer_size = 10000\n",
        "batch_size = 512\n",
        "update_frequency = 10\n",
        "test_episodes = 1"
      ],
      "metadata": {
        "id": "ztLArg8OF-4o",
        "execution": {
          "iopub.status.busy": "2024-11-14T02:26:58.166094Z",
          "iopub.execute_input": "2024-11-14T02:26:58.166964Z",
          "iopub.status.idle": "2024-11-14T02:26:58.172407Z",
          "shell.execute_reply.started": "2024-11-14T02:26:58.166915Z",
          "shell.execute_reply": "2024-11-14T02:26:58.171414Z"
        },
        "trusted": true
      },
      "execution_count": 218,
      "outputs": []
    },
    {
      "cell_type": "markdown",
      "source": [
        "# Setup Environment"
      ],
      "metadata": {
        "id": "fek2zIOuF5Me"
      }
    },
    {
      "cell_type": "code",
      "source": [
        "env_id = \"Gym-Gridworlds/DangerMaze-6x6-v0\"\n",
        "#env_id = \"Gym-Gridworlds/Empty-10x10-v0\"\n",
        "#env_id = \"Gym-Gridworlds/Penalty-3x3-v0\"\n",
        "env = gymnasium.make(env_id, render_mode=\"binary\")\n",
        "env_eval = gymnasium.make(env_id, max_episode_steps=max_steps_per_episode_eval, render_mode=\"binary\")"
      ],
      "metadata": {
        "id": "nSD8eiX5IG5-",
        "execution": {
          "iopub.status.busy": "2024-11-14T02:26:59.764406Z",
          "iopub.execute_input": "2024-11-14T02:26:59.765313Z",
          "iopub.status.idle": "2024-11-14T02:26:59.775807Z",
          "shell.execute_reply.started": "2024-11-14T02:26:59.765259Z",
          "shell.execute_reply": "2024-11-14T02:26:59.774276Z"
        },
        "trusted": true
      },
      "execution_count": 219,
      "outputs": []
    },
    {
      "cell_type": "markdown",
      "source": [
        "# DQN Agent"
      ],
      "metadata": {
        "id": "R_nWh5QTGSUN"
      }
    },
    {
      "cell_type": "code",
      "source": [
        "input_dim = env.observation_space.n\n",
        "output_dim = env.action_space.n\n",
        "depths = [1, 2, 3, 4, 5, 6, 7, 8, 9, 10, 20, 50]\n",
        "fc_units = [4096, 366, 262, 215, 187, 168, 153, 142, 133, 125, 87, 54]\n",
        "final_units = [4096, 366, 263, 217, 188, 165, 157, 144, 134, 135, 75, 54]\n",
        "networks = [QNetwork(input_dim, output_dim, seed=i, depth=depths[i], fc_unit=fc_units[i], final_layer_unit=final_units[i]) for i in range(len(depths))]\n",
        "netwrok_names = [f\"DQN_{depths[i]:02}_{fc_units[i]}_{sum(p.numel() for p in networks[i].parameters())}\" for i in range(len(depths))]\n",
        "data = {}\n",
        "for network in networks:\n",
        "  data[network] = {\"loss\": [], \"train_reward\": [], \"eval_reward\": []}\n",
        "\n",
        "netwrok_names"
      ],
      "metadata": {
        "id": "H2pzwB0CRL7X",
        "colab": {
          "base_uri": "https://localhost:8080/"
        },
        "outputId": "7caa2cf0-8ec3-4c04-be29-b2493f8cc0d9",
        "execution": {
          "iopub.status.busy": "2024-11-14T01:54:56.824724Z",
          "iopub.execute_input": "2024-11-14T01:54:56.825141Z",
          "iopub.status.idle": "2024-11-14T01:54:57.030790Z",
          "shell.execute_reply.started": "2024-11-14T01:54:56.825103Z",
          "shell.execute_reply": "2024-11-14T01:54:57.029829Z"
        },
        "trusted": true
      },
      "execution_count": 220,
      "outputs": [
        {
          "output_type": "execute_result",
          "data": {
            "text/plain": [
              "['DQN_01_4096_147461',\n",
              " 'DQN_02_366_147503',\n",
              " 'DQN_03_262_147517',\n",
              " 'DQN_04_215_147507',\n",
              " 'DQN_05_187_147554',\n",
              " 'DQN_06_168_147491',\n",
              " 'DQN_07_153_147521',\n",
              " 'DQN_08_142_147555',\n",
              " 'DQN_09_133_147508',\n",
              " 'DQN_10_125_147565',\n",
              " 'DQN_20_87_147485',\n",
              " 'DQN_50_54_147479']"
            ]
          },
          "metadata": {},
          "execution_count": 220
        }
      ]
    },
    {
      "cell_type": "markdown",
      "source": [
        "# Evaluation"
      ],
      "metadata": {
        "id": "8sYE30Ry5bsn"
      }
    },
    {
      "cell_type": "code",
      "source": [
        "def eval(new_agent):\n",
        "  episode_rewards = []\n",
        "\n",
        "  action_series = []\n",
        "  for episode in range(test_episodes):\n",
        "      state, _ = env_eval.reset()\n",
        "      state = env_eval.render().flatten()\n",
        "      episode_reward = 0\n",
        "      done = False\n",
        "      while not done:\n",
        "          action = new_agent.act(state, eps=0.)\n",
        "          next_state, reward, terminated, truncated, _ = env_eval.step(action)\n",
        "          next_state = env_eval.render().flatten()\n",
        "          action_series.append(action)\n",
        "          done = terminated or truncated\n",
        "          episode_reward += reward\n",
        "          state = next_state\n",
        "\n",
        "      episode_rewards.append(episode_reward)\n",
        "\n",
        "\n",
        "  average_reward = sum(episode_rewards) / test_episodes\n",
        "  return average_reward, action_series"
      ],
      "metadata": {
        "id": "JdLpXclb5dae",
        "execution": {
          "iopub.status.busy": "2024-11-14T01:55:03.143350Z",
          "iopub.execute_input": "2024-11-14T01:55:03.144198Z",
          "iopub.status.idle": "2024-11-14T01:55:03.151257Z",
          "shell.execute_reply.started": "2024-11-14T01:55:03.144157Z",
          "shell.execute_reply": "2024-11-14T01:55:03.149976Z"
        },
        "trusted": true
      },
      "execution_count": 221,
      "outputs": []
    },
    {
      "cell_type": "code",
      "source": [
        "def eval_Q_plot(new_agent):\n",
        "  r_s = 5\n",
        "  w_s = 6\n",
        "  #b = torch.tensor(np.array([[i, j] for j in range(r_s) for i in range(w_s)]).astype(np.float32)).to(device)\n",
        "  b = torch.tensor(np.eye(w_s * r_s).astype(np.float32)).to(device)\n",
        "  #print(b)\n",
        "  res = new_agent.qnetwork_local(b)\n",
        "  #print(res.shape)\n",
        "  a = np.zeros((5, r_s, w_s))\n",
        "  for i in range(r_s):\n",
        "    for j in range(w_s):\n",
        "      a[0, i, j] = res[i * r_s + j][0]\n",
        "      a[1, i, j] = res[i * r_s + j][1]\n",
        "      a[2, i, j] = res[i * r_s + j][2]\n",
        "      a[3, i, j] = res[i * r_s + j][3]\n",
        "      a[4, i, j] = res[i * r_s + j][4]\n",
        "\n",
        "  fig, ax = plt.subplots(ncols=5)\n",
        "\n",
        "  ax[0].imshow(a[0], cmap='hot', interpolation='nearest')\n",
        "  ax[1].imshow(a[1], cmap='hot', interpolation='nearest')\n",
        "  ax[2].imshow(a[2], cmap='hot', interpolation='nearest')\n",
        "  ax[3].imshow(a[3], cmap='hot', interpolation='nearest')\n",
        "  ax[4].imshow(a[4], cmap='hot', interpolation='nearest')\n",
        "\n",
        "  ax[0].set_title(\"Action 0\")\n",
        "  ax[1].set_title(\"Action 1\")\n",
        "  ax[2].set_title(\"Action 2\")\n",
        "  ax[3].set_title(\"Action 3\")\n",
        "  ax[4].set_title(\"Action 4\")\n",
        "\n",
        "  plt.tight_layout()\n",
        "  plt.show()"
      ],
      "metadata": {
        "id": "OpZqj7q36dge",
        "execution": {
          "iopub.status.busy": "2024-11-14T01:55:05.594204Z",
          "iopub.execute_input": "2024-11-14T01:55:05.594641Z",
          "iopub.status.idle": "2024-11-14T01:55:05.606819Z",
          "shell.execute_reply.started": "2024-11-14T01:55:05.594597Z",
          "shell.execute_reply": "2024-11-14T01:55:05.605608Z"
        },
        "trusted": true
      },
      "execution_count": 222,
      "outputs": []
    },
    {
      "cell_type": "markdown",
      "source": [
        "# Training"
      ],
      "metadata": {
        "id": "VEyTwl3aGWTF"
      }
    },
    {
      "cell_type": "code",
      "source": [
        "for seed in range(1):\n",
        "  print(f\"seed = {seed}\")\n",
        "  for i, network in enumerate(networks):\n",
        "\n",
        "    if i not in [4]:\n",
        "      continue\n",
        "\n",
        "    buffer = deque(maxlen=buffer_size)\n",
        "\n",
        "    new_agent = DQNAgent(input_dim, output_dim, seed=seed, lr = lr, network={\"depth\": depths[i], \"fc_units\": fc_units[i], \"final_fc_units\": final_units[i]})\n",
        "\n",
        "    # Training\n",
        "\n",
        "    losses = []\n",
        "    rewards = []\n",
        "    average_rewards = []\n",
        "\n",
        "    ep_mean_reward = 0\n",
        "    ep_mean_reward_fixed = 0\n",
        "    ep_mean_loss = 0\n",
        "    epsilon = epsilon_start\n",
        "\n",
        "    pbar = trange(num_episodes, position=0, leave=True, desc=f\"{netwrok_names[i]}\", unit=\"episode\")\n",
        "\n",
        "    for episode in pbar:\n",
        "        # Reset the environment\n",
        "        state, _ = env.reset()\n",
        "        #print(state)\n",
        "        state = env.render().flatten()\n",
        "        epsilon = max(epsilon_end, epsilon * epsilon_decay_rate)\n",
        "        ep_reward = 0\n",
        "        ep_loss = 0\n",
        "        #print(state)\n",
        "        # Run one episode\n",
        "        for step in range(max_steps_per_episode_train):\n",
        "            # Choose and perform an action\n",
        "            action = new_agent.act(state, epsilon)\n",
        "            next_state, reward, terminated, truncated, _ = env.step(action)\n",
        "            next_state = env.render().flatten()\n",
        "            done = terminated or truncated\n",
        "            #print(done)\n",
        "            #if reward > 0:\n",
        "            #  print(\"REWARDDDDDD!\")\n",
        "            buffer.append((state, action, reward, next_state, done))\n",
        "\n",
        "            #print(len(buffer), batch_size)\n",
        "            if len(buffer) >= batch_size:\n",
        "                batch = random.sample(buffer, batch_size)\n",
        "                # Update the agent's knowledge\n",
        "                loss = new_agent.learn(batch, gamma)\n",
        "                ep_loss += loss\n",
        "\n",
        "            state = next_state\n",
        "\n",
        "            ep_reward += reward\n",
        "            # Check if the episode has ended\n",
        "            if done:\n",
        "              #print(\"H\")\n",
        "              break\n",
        "\n",
        "        rewards.append(ep_reward)\n",
        "        ep_mean_reward += ep_reward\n",
        "        if episode % update_frequency == 0:\n",
        "          ep_mean_reward_fixed = ep_mean_reward\n",
        "          average_reward, action_series = eval(new_agent)\n",
        "          ep_mean_reward = 0\n",
        "\n",
        "        #if episode % (update_frequency * update_frequency) == 0:\n",
        "        #  eval_Q_plot(new_agent)\n",
        "        #  print(action_series)\n",
        "\n",
        "        average_rewards.append(average_reward)\n",
        "\n",
        "        if type(ep_loss) == int:\n",
        "          record = 0\n",
        "          pbar.set_postfix(loss=ep_loss, ep_reward=average_reward, train_reward=ep_reward, epsilon=epsilon)\n",
        "          losses.append(ep_loss)\n",
        "        else:\n",
        "          record = 1\n",
        "          pbar.set_postfix(loss=ep_loss.item(), ep_reward=average_reward, train_reward=ep_reward, epsilon=epsilon)\n",
        "          losses.append(ep_loss.detach().cpu())\n",
        "\n",
        "    data[network][\"eval_reward\"].append(average_rewards)\n",
        "    if record == 1:\n",
        "      data[network][\"loss\"].append(losses)\n",
        "    data[network][\"train_reward\"].append(rewards)\n",
        "\n",
        "    to_be_saved = {\"loss\": np.array(losses).tolist(), \"train_reward\": rewards, \"eval_reward\": average_rewards}\n",
        "    with open(f\"/kaggle/working/{env_id[15:25]}_{netwrok_names[i][:7]}{seed}.json\", \"w\") as f:\n",
        "      json.dump(to_be_saved, f)"
      ],
      "metadata": {
        "colab": {
          "base_uri": "https://localhost:8080/",
          "height": 1000
        },
        "id": "6rpzjfY2IG5-",
        "outputId": "93e416e3-36e8-431c-f693-15342af21426",
        "execution": {
          "iopub.status.busy": "2024-11-14T01:56:16.502980Z",
          "iopub.execute_input": "2024-11-14T01:56:16.503402Z",
          "iopub.status.idle": "2024-11-14T02:00:15.912252Z",
          "shell.execute_reply.started": "2024-11-14T01:56:16.503364Z",
          "shell.execute_reply": "2024-11-14T02:00:15.910819Z"
        },
        "trusted": true
      },
      "execution_count": 223,
      "outputs": [
        {
          "output_type": "stream",
          "name": "stdout",
          "text": [
            "seed = 0\n"
          ]
        },
        {
          "output_type": "stream",
          "name": "stderr",
          "text": [
            "\rDQN_05_187_147554:   0%|          | 0/4000 [00:00<?, ?episode/s]"
          ]
        },
        {
          "output_type": "display_data",
          "data": {
            "text/plain": [
              "<Figure size 640x480 with 5 Axes>"
            ],
            "image/png": "[encoded data removed]"
          },
          "metadata": {}
        },
        {
          "output_type": "stream",
          "name": "stderr",
          "text": [
            "DQN_05_187_147554:   0%|          | 19/4000 [00:00<02:22, 27.96episode/s, ep_reward=0, epsilon=0.86, loss=0, train_reward=-100] "
          ]
        },
        {
          "output_type": "stream",
          "name": "stdout",
          "text": [
            "[0, 0, 0, 0, 0, 0, 0, 0, 0, 0, 0, 0, 0, 0, 0, 0, 0, 0, 0, 0, 0, 0, 0, 0, 0]\n"
          ]
        },
        {
          "output_type": "stream",
          "name": "stderr",
          "text": [
            "DQN_05_187_147554:   2%|▎         | 100/4000 [00:04<05:21, 12.13episode/s, ep_reward=0, epsilon=0.606, loss=980, train_reward=-100]"
          ]
        },
        {
          "output_type": "display_data",
          "data": {
            "text/plain": [
              "<Figure size 640x480 with 5 Axes>"
            ],
            "image/png": "[encoded data removed]"
          },
          "metadata": {}
        },
        {
          "output_type": "stream",
          "name": "stderr",
          "text": [
            "\rDQN_05_187_147554:   2%|▎         | 100/4000 [00:05<05:21, 12.13episode/s, ep_reward=0, epsilon=0.603, loss=1.06e+3, train_reward=-100]"
          ]
        },
        {
          "output_type": "stream",
          "name": "stdout",
          "text": [
            "[0, 0, 0, 0, 0, 0, 0, 0, 0, 0, 0, 0, 0, 0, 0, 0, 0, 0, 0, 0, 0, 0, 0, 0, 0]\n"
          ]
        },
        {
          "output_type": "stream",
          "name": "stderr",
          "text": [
            "DQN_05_187_147554:   5%|▍         | 199/4000 [00:19<12:19,  5.14episode/s, ep_reward=0, epsilon=0.367, loss=2.13e+3, train_reward=-100]"
          ]
        },
        {
          "output_type": "display_data",
          "data": {
            "text/plain": [
              "<Figure size 640x480 with 5 Axes>"
            ],
            "image/png": "[encoded data removed]"
          },
          "metadata": {}
        },
        {
          "output_type": "stream",
          "name": "stderr",
          "text": [
            "DQN_05_187_147554:   5%|▌         | 202/4000 [00:20<18:30,  3.42episode/s, ep_reward=0, epsilon=0.361, loss=1.08e+3, train_reward=-100]"
          ]
        },
        {
          "output_type": "stream",
          "name": "stdout",
          "text": [
            "[0, 0, 0, 0, 0, 0, 0, 0, 0, 0, 0, 0, 0, 0, 0, 0, 0, 0, 0, 0, 0, 0, 0, 0, 0]\n"
          ]
        },
        {
          "output_type": "stream",
          "name": "stderr",
          "text": [
            "DQN_05_187_147554:   7%|▋         | 299/4000 [00:38<07:09,  8.61episode/s, ep_reward=0, epsilon=0.222, loss=266, train_reward=-100]"
          ]
        },
        {
          "output_type": "display_data",
          "data": {
            "text/plain": [
              "<Figure size 640x480 with 5 Axes>"
            ],
            "image/png": "[encoded data removed]"
          },
          "metadata": {}
        },
        {
          "output_type": "stream",
          "name": "stderr",
          "text": [
            "DQN_05_187_147554:   8%|▊         | 303/4000 [00:39<10:45,  5.73episode/s, ep_reward=0, epsilon=0.218, loss=70.9, train_reward=-100]"
          ]
        },
        {
          "output_type": "stream",
          "name": "stdout",
          "text": [
            "[3, 3, 3, 3, 3, 3, 3, 3, 3, 3, 3, 3, 3, 3, 3, 3, 3, 3, 3, 3, 3, 3, 3, 3, 3]\n"
          ]
        },
        {
          "output_type": "stream",
          "name": "stderr",
          "text": [
            "DQN_05_187_147554:  10%|█         | 400/4000 [01:11<31:04,  1.93episode/s, ep_reward=0, epsilon=0.135, loss=676, train_reward=-100]"
          ]
        },
        {
          "output_type": "display_data",
          "data": {
            "text/plain": [
              "<Figure size 640x480 with 5 Axes>"
            ],
            "image/png": "[encoded data removed]"
          },
          "metadata": {}
        },
        {
          "output_type": "stream",
          "name": "stderr",
          "text": [
            "DQN_05_187_147554:  10%|█         | 401/4000 [01:12<44:21,  1.35episode/s, ep_reward=0, epsilon=0.134, loss=668, train_reward=-100]"
          ]
        },
        {
          "output_type": "stream",
          "name": "stdout",
          "text": [
            "[3, 3, 3, 3, 3, 3, 3, 3, 3, 3, 3, 3, 3, 3, 3, 3, 3, 3, 3, 3, 3, 3, 3, 3, 3]\n"
          ]
        },
        {
          "output_type": "stream",
          "name": "stderr",
          "text": [
            "DQN_05_187_147554:  12%|█▎        | 500/4000 [01:40<16:03,  3.63episode/s, ep_reward=0, epsilon=0.0816, loss=38.8, train_reward=-120]"
          ]
        },
        {
          "output_type": "display_data",
          "data": {
            "text/plain": [
              "<Figure size 640x480 with 5 Axes>"
            ],
            "image/png": "[encoded data removed]"
          },
          "metadata": {}
        },
        {
          "output_type": "stream",
          "name": "stderr",
          "text": [
            "DQN_05_187_147554:  13%|█▎        | 501/4000 [01:40<21:04,  2.77episode/s, ep_reward=0, epsilon=0.0812, loss=0.949, train_reward=-100]"
          ]
        },
        {
          "output_type": "stream",
          "name": "stdout",
          "text": [
            "[0, 0, 0, 0, 0, 0, 0, 0, 0, 0, 0, 0, 0, 0, 0, 0, 0, 0, 0, 0, 0, 0, 0, 0, 0]\n"
          ]
        },
        {
          "output_type": "stream",
          "name": "stderr",
          "text": [
            "DQN_05_187_147554:  15%|█▌        | 600/4000 [02:25<40:53,  1.39episode/s, ep_reward=0, epsilon=0.05, loss=1.25, train_reward=0]"
          ]
        },
        {
          "output_type": "display_data",
          "data": {
            "text/plain": [
              "<Figure size 640x480 with 5 Axes>"
            ],
            "image/png": "[encoded data removed]"
          },
          "metadata": {}
        },
        {
          "output_type": "stream",
          "name": "stderr",
          "text": [
            "DQN_05_187_147554:  15%|█▌        | 601/4000 [02:26<49:17,  1.15episode/s, ep_reward=0, epsilon=0.05, loss=1.07, train_reward=0]"
          ]
        },
        {
          "output_type": "stream",
          "name": "stdout",
          "text": [
            "[1, 1, 1, 1, 2, 2, 4, 4, 4, 4, 4, 4, 4, 4, 4, 4, 4, 4, 4, 4, 4, 4, 4, 4, 4]\n"
          ]
        },
        {
          "output_type": "stream",
          "name": "stderr",
          "text": [
            "DQN_05_187_147554:  18%|█▊        | 700/4000 [03:26<45:00,  1.22episode/s, ep_reward=0, epsilon=0.05, loss=0.00797, train_reward=0]"
          ]
        },
        {
          "output_type": "display_data",
          "data": {
            "text/plain": [
              "<Figure size 640x480 with 5 Axes>"
            ],
            "image/png": "[encoded data removed]"
          },
          "metadata": {}
        },
        {
          "output_type": "stream",
          "name": "stderr",
          "text": [
            "DQN_05_187_147554:  18%|█▊        | 701/4000 [03:28<1:00:14,  1.10s/episode, ep_reward=0, epsilon=0.05, loss=0.00523, train_reward=0]"
          ]
        },
        {
          "output_type": "stream",
          "name": "stdout",
          "text": [
            "[1, 1, 1, 1, 2, 2, 3, 2, 2, 3, 3, 3, 4, 4, 4, 4, 4, 4, 4, 4, 4, 4, 4, 4, 4]\n"
          ]
        },
        {
          "output_type": "stream",
          "name": "stderr",
          "text": [
            "DQN_05_187_147554:  20%|██        | 800/4000 [04:28<28:03,  1.90episode/s, ep_reward=0, epsilon=0.05, loss=0.014, train_reward=0]"
          ]
        },
        {
          "output_type": "display_data",
          "data": {
            "text/plain": [
              "<Figure size 640x480 with 5 Axes>"
            ],
            "image/png": "[encoded data removed]"
          },
          "metadata": {}
        },
        {
          "output_type": "stream",
          "name": "stderr",
          "text": [
            "DQN_05_187_147554:  20%|██        | 801/4000 [04:29<42:27,  1.26episode/s, ep_reward=0, epsilon=0.05, loss=0.00936, train_reward=0]"
          ]
        },
        {
          "output_type": "stream",
          "name": "stdout",
          "text": [
            "[1, 1, 1, 1, 2, 2, 3, 2, 3, 3, 3, 3, 3, 3, 3, 3, 3, 3, 3, 3, 3, 3, 3, 3, 3]\n"
          ]
        },
        {
          "output_type": "stream",
          "name": "stderr",
          "text": [
            "DQN_05_187_147554:  22%|██▎       | 900/4000 [05:32<20:11,  2.56episode/s, ep_reward=0, epsilon=0.05, loss=0.000176, train_reward=-100]"
          ]
        },
        {
          "output_type": "display_data",
          "data": {
            "text/plain": [
              "<Figure size 640x480 with 5 Axes>"
            ],
            "image/png": "[encoded data removed]"
          },
          "metadata": {}
        },
        {
          "output_type": "stream",
          "name": "stderr",
          "text": [
            "DQN_05_187_147554:  23%|██▎       | 901/4000 [05:34<43:00,  1.20episode/s, ep_reward=0, epsilon=0.05, loss=0.000796, train_reward=0]"
          ]
        },
        {
          "output_type": "stream",
          "name": "stdout",
          "text": [
            "[1, 1, 0, 0, 0, 0, 0, 0, 0, 0, 0, 0, 0, 0, 0, 0, 0, 0, 0, 0, 0, 0, 0, 0, 0]\n"
          ]
        },
        {
          "output_type": "stream",
          "name": "stderr",
          "text": [
            "DQN_05_187_147554:  25%|██▌       | 1000/4000 [06:29<23:11,  2.16episode/s, ep_reward=0, epsilon=0.05, loss=0.882, train_reward=-100]"
          ]
        },
        {
          "output_type": "display_data",
          "data": {
            "text/plain": [
              "<Figure size 640x480 with 5 Axes>"
            ],
            "image/png": "[encoded data removed]"
          },
          "metadata": {}
        },
        {
          "output_type": "stream",
          "name": "stderr",
          "text": [
            "DQN_05_187_147554:  25%|██▌       | 1001/4000 [06:31<39:36,  1.26episode/s, ep_reward=0, epsilon=0.05, loss=0.0153, train_reward=-100]"
          ]
        },
        {
          "output_type": "stream",
          "name": "stdout",
          "text": [
            "[3, 3, 3, 3, 3, 3, 3, 3, 3, 3, 3, 3, 3, 3, 3, 3, 3, 3, 3, 3, 3, 3, 3, 3, 3]\n"
          ]
        },
        {
          "output_type": "stream",
          "name": "stderr",
          "text": [
            "DQN_05_187_147554:  28%|██▊       | 1100/4000 [07:27<22:17,  2.17episode/s, ep_reward=0, epsilon=0.05, loss=0.000145, train_reward=-100]"
          ]
        },
        {
          "output_type": "display_data",
          "data": {
            "text/plain": [
              "<Figure size 640x480 with 5 Axes>"
            ],
            "image/png": "[encoded data removed]"
          },
          "metadata": {}
        },
        {
          "output_type": "stream",
          "name": "stderr",
          "text": [
            "DQN_05_187_147554:  28%|██▊       | 1101/4000 [07:29<43:44,  1.10episode/s, ep_reward=0, epsilon=0.05, loss=0.000449, train_reward=0]"
          ]
        },
        {
          "output_type": "stream",
          "name": "stdout",
          "text": [
            "[1, 1, 1, 1, 2, 2, 3, 3, 4, 4, 4, 4, 4, 4, 4, 4, 4, 4, 4, 4, 4, 4, 4, 4, 4]\n"
          ]
        },
        {
          "output_type": "stream",
          "name": "stderr",
          "text": [
            "DQN_05_187_147554:  30%|███       | 1200/4000 [07:46<05:12,  8.96episode/s, ep_reward=0, epsilon=0.05, loss=0.0121, train_reward=1]"
          ]
        },
        {
          "output_type": "display_data",
          "data": {
            "text/plain": [
              "<Figure size 640x480 with 5 Axes>"
            ],
            "image/png": "[encoded data removed]"
          },
          "metadata": {}
        },
        {
          "output_type": "stream",
          "name": "stderr",
          "text": [
            "DQN_05_187_147554:  30%|███       | 1202/4000 [07:47<11:04,  4.21episode/s, ep_reward=1, epsilon=0.05, loss=0.00627, train_reward=1]"
          ]
        },
        {
          "output_type": "stream",
          "name": "stdout",
          "text": [
            "[1, 1, 1, 1, 2, 2, 3, 2, 2, 2, 1, 4]\n"
          ]
        },
        {
          "output_type": "stream",
          "name": "stderr",
          "text": [
            "DQN_05_187_147554:  32%|███▎      | 1300/4000 [08:07<07:13,  6.22episode/s, ep_reward=1, epsilon=0.05, loss=2.37e-5, train_reward=1]"
          ]
        },
        {
          "output_type": "display_data",
          "data": {
            "text/plain": [
              "<Figure size 640x480 with 5 Axes>"
            ],
            "image/png": "[encoded data removed]"
          },
          "metadata": {}
        },
        {
          "output_type": "stream",
          "name": "stderr",
          "text": [
            "DQN_05_187_147554:  33%|███▎      | 1302/4000 [08:08<15:21,  2.93episode/s, ep_reward=1, epsilon=0.05, loss=6.75e-5, train_reward=1]"
          ]
        },
        {
          "output_type": "stream",
          "name": "stdout",
          "text": [
            "[1, 1, 1, 1, 2, 2, 3, 2, 2, 2, 1, 4]\n"
          ]
        },
        {
          "output_type": "stream",
          "name": "stderr",
          "text": [
            "DQN_05_187_147554:  35%|███▌      | 1400/4000 [08:19<07:30,  5.77episode/s, ep_reward=1, epsilon=0.05, loss=0.00302, train_reward=-100]"
          ]
        },
        {
          "output_type": "display_data",
          "data": {
            "text/plain": [
              "<Figure size 640x480 with 5 Axes>"
            ],
            "image/png": "[encoded data removed]"
          },
          "metadata": {}
        },
        {
          "output_type": "stream",
          "name": "stderr",
          "text": [
            "DQN_05_187_147554:  35%|███▌      | 1402/4000 [08:20<14:45,  2.93episode/s, ep_reward=1, epsilon=0.05, loss=0.00221, train_reward=1]"
          ]
        },
        {
          "output_type": "stream",
          "name": "stdout",
          "text": [
            "[1, 1, 1, 1, 2, 2, 3, 2, 2, 2, 1, 4]\n"
          ]
        },
        {
          "output_type": "stream",
          "name": "stderr",
          "text": [
            "DQN_05_187_147554:  38%|███▊      | 1500/4000 [08:33<06:09,  6.76episode/s, ep_reward=1, epsilon=0.05, loss=9.97e-5, train_reward=1]"
          ]
        },
        {
          "output_type": "display_data",
          "data": {
            "text/plain": [
              "<Figure size 640x480 with 5 Axes>"
            ],
            "image/png": "[encoded data removed]"
          },
          "metadata": {}
        },
        {
          "output_type": "stream",
          "name": "stderr",
          "text": [
            "DQN_05_187_147554:  38%|███▊      | 1502/4000 [08:34<14:26,  2.88episode/s, ep_reward=1, epsilon=0.05, loss=0.000104, train_reward=1]"
          ]
        },
        {
          "output_type": "stream",
          "name": "stdout",
          "text": [
            "[1, 1, 1, 1, 2, 2, 3, 2, 2, 2, 1, 4]\n"
          ]
        },
        {
          "output_type": "stream",
          "name": "stderr",
          "text": [
            "DQN_05_187_147554:  40%|████      | 1600/4000 [08:45<06:18,  6.35episode/s, ep_reward=1, epsilon=0.05, loss=8.44e-6, train_reward=1]"
          ]
        },
        {
          "output_type": "display_data",
          "data": {
            "text/plain": [
              "<Figure size 640x480 with 5 Axes>"
            ],
            "image/png": "[encoded data removed]"
          },
          "metadata": {}
        },
        {
          "output_type": "stream",
          "name": "stderr",
          "text": [
            "DQN_05_187_147554:  40%|████      | 1602/4000 [08:46<12:38,  3.16episode/s, ep_reward=1, epsilon=0.05, loss=2.04e-6, train_reward=1]"
          ]
        },
        {
          "output_type": "stream",
          "name": "stdout",
          "text": [
            "[1, 1, 1, 1, 2, 2, 3, 2, 2, 2, 1, 4]\n"
          ]
        },
        {
          "output_type": "stream",
          "name": "stderr",
          "text": [
            "DQN_05_187_147554:  42%|████▎     | 1700/4000 [08:58<05:39,  6.78episode/s, ep_reward=1, epsilon=0.05, loss=4.24e-6, train_reward=1]"
          ]
        },
        {
          "output_type": "display_data",
          "data": {
            "text/plain": [
              "<Figure size 640x480 with 5 Axes>"
            ],
            "image/png": "[encoded data removed]"
          },
          "metadata": {}
        },
        {
          "output_type": "stream",
          "name": "stderr",
          "text": [
            "DQN_05_187_147554:  43%|████▎     | 1702/4000 [08:59<13:04,  2.93episode/s, ep_reward=1, epsilon=0.05, loss=1.32e-5, train_reward=1]"
          ]
        },
        {
          "output_type": "stream",
          "name": "stdout",
          "text": [
            "[1, 1, 1, 1, 2, 2, 3, 2, 2, 2, 1, 4]\n"
          ]
        },
        {
          "output_type": "stream",
          "name": "stderr",
          "text": [
            "DQN_05_187_147554:  45%|████▌     | 1800/4000 [09:10<03:30, 10.48episode/s, ep_reward=1, epsilon=0.05, loss=4.19e-6, train_reward=1]"
          ]
        },
        {
          "output_type": "display_data",
          "data": {
            "text/plain": [
              "<Figure size 640x480 with 5 Axes>"
            ],
            "image/png": "[encoded data removed]"
          },
          "metadata": {}
        },
        {
          "output_type": "stream",
          "name": "stderr",
          "text": [
            "DQN_05_187_147554:  45%|████▌     | 1802/4000 [09:11<09:01,  4.06episode/s, ep_reward=1, epsilon=0.05, loss=2.21e-6, train_reward=1]"
          ]
        },
        {
          "output_type": "stream",
          "name": "stdout",
          "text": [
            "[1, 1, 1, 1, 2, 2, 3, 2, 2, 2, 1, 4]\n"
          ]
        },
        {
          "output_type": "stream",
          "name": "stderr",
          "text": [
            "DQN_05_187_147554:  48%|████▊     | 1900/4000 [09:22<03:37,  9.67episode/s, ep_reward=1, epsilon=0.05, loss=1.38e-6, train_reward=1]"
          ]
        },
        {
          "output_type": "display_data",
          "data": {
            "text/plain": [
              "<Figure size 640x480 with 5 Axes>"
            ],
            "image/png": "[encoded data removed]"
          },
          "metadata": {}
        },
        {
          "output_type": "stream",
          "name": "stderr",
          "text": [
            "DQN_05_187_147554:  48%|████▊     | 1902/4000 [09:23<06:57,  5.03episode/s, ep_reward=1, epsilon=0.05, loss=9.37e-7, train_reward=1]"
          ]
        },
        {
          "output_type": "stream",
          "name": "stdout",
          "text": [
            "[1, 1, 1, 1, 2, 2, 3, 2, 2, 2, 1, 4]\n"
          ]
        },
        {
          "output_type": "stream",
          "name": "stderr",
          "text": [
            "DQN_05_187_147554:  50%|█████     | 2000/4000 [09:35<03:52,  8.62episode/s, ep_reward=1, epsilon=0.05, loss=0.000746, train_reward=1]"
          ]
        },
        {
          "output_type": "display_data",
          "data": {
            "text/plain": [
              "<Figure size 640x480 with 5 Axes>"
            ],
            "image/png": "[encoded data removed]"
          },
          "metadata": {}
        },
        {
          "output_type": "stream",
          "name": "stderr",
          "text": [
            "DQN_05_187_147554:  50%|█████     | 2002/4000 [09:36<07:41,  4.33episode/s, ep_reward=1, epsilon=0.05, loss=0.000454, train_reward=-9]"
          ]
        },
        {
          "output_type": "stream",
          "name": "stdout",
          "text": [
            "[1, 1, 1, 1, 2, 2, 3, 2, 2, 2, 1, 4]\n"
          ]
        },
        {
          "output_type": "stream",
          "name": "stderr",
          "text": [
            "DQN_05_187_147554:  52%|█████▎    | 2100/4000 [09:47<03:52,  8.18episode/s, ep_reward=1, epsilon=0.05, loss=0.000909, train_reward=1]"
          ]
        },
        {
          "output_type": "display_data",
          "data": {
            "text/plain": [
              "<Figure size 640x480 with 5 Axes>"
            ],
            "image/png": "[encoded data removed]"
          },
          "metadata": {}
        },
        {
          "output_type": "stream",
          "name": "stderr",
          "text": [
            "DQN_05_187_147554:  53%|█████▎    | 2102/4000 [09:48<09:52,  3.20episode/s, ep_reward=1, epsilon=0.05, loss=0.000801, train_reward=1]"
          ]
        },
        {
          "output_type": "stream",
          "name": "stdout",
          "text": [
            "[1, 1, 1, 1, 2, 2, 3, 2, 2, 2, 1, 4]\n"
          ]
        },
        {
          "output_type": "stream",
          "name": "stderr",
          "text": [
            "DQN_05_187_147554:  55%|█████▌    | 2200/4000 [10:00<03:46,  7.96episode/s, ep_reward=1, epsilon=0.05, loss=0.000563, train_reward=-9]"
          ]
        },
        {
          "output_type": "display_data",
          "data": {
            "text/plain": [
              "<Figure size 640x480 with 5 Axes>"
            ],
            "image/png": "[encoded data removed]"
          },
          "metadata": {}
        },
        {
          "output_type": "stream",
          "name": "stderr",
          "text": [
            "DQN_05_187_147554:  55%|█████▌    | 2202/4000 [10:01<06:55,  4.33episode/s, ep_reward=1, epsilon=0.05, loss=0.000169, train_reward=1]"
          ]
        },
        {
          "output_type": "stream",
          "name": "stdout",
          "text": [
            "[1, 1, 1, 1, 2, 2, 3, 2, 2, 2, 1, 4]\n"
          ]
        },
        {
          "output_type": "stream",
          "name": "stderr",
          "text": [
            "DQN_05_187_147554:  57%|█████▊    | 2300/4000 [10:15<03:43,  7.61episode/s, ep_reward=1, epsilon=0.05, loss=0.000275, train_reward=-100]"
          ]
        },
        {
          "output_type": "display_data",
          "data": {
            "text/plain": [
              "<Figure size 640x480 with 5 Axes>"
            ],
            "image/png": "[encoded data removed]"
          },
          "metadata": {}
        },
        {
          "output_type": "stream",
          "name": "stderr",
          "text": [
            "DQN_05_187_147554:  58%|█████▊    | 2301/4000 [10:17<11:17,  2.51episode/s, ep_reward=1, epsilon=0.05, loss=0.00033, train_reward=1]"
          ]
        },
        {
          "output_type": "stream",
          "name": "stdout",
          "text": [
            "[1, 1, 1, 1, 2, 2, 3, 2, 2, 2, 1, 4]\n"
          ]
        },
        {
          "output_type": "stream",
          "name": "stderr",
          "text": [
            "DQN_05_187_147554:  60%|██████    | 2400/4000 [10:32<05:29,  4.85episode/s, ep_reward=1, epsilon=0.05, loss=1.04e-7, train_reward=1]"
          ]
        },
        {
          "output_type": "display_data",
          "data": {
            "text/plain": [
              "<Figure size 640x480 with 5 Axes>"
            ],
            "image/png": "[encoded data removed]"
          },
          "metadata": {}
        },
        {
          "output_type": "stream",
          "name": "stderr",
          "text": [
            "DQN_05_187_147554:  60%|██████    | 2403/4000 [10:33<07:18,  3.64episode/s, ep_reward=1, epsilon=0.05, loss=2.9e-8, train_reward=1]"
          ]
        },
        {
          "output_type": "stream",
          "name": "stdout",
          "text": [
            "[1, 1, 1, 1, 2, 2, 3, 2, 2, 2, 1, 4]\n"
          ]
        },
        {
          "output_type": "stream",
          "name": "stderr",
          "text": [
            "DQN_05_187_147554:  62%|██████▎   | 2500/4000 [10:47<03:31,  7.10episode/s, ep_reward=1, epsilon=0.05, loss=0.000135, train_reward=1]"
          ]
        },
        {
          "output_type": "display_data",
          "data": {
            "text/plain": [
              "<Figure size 640x480 with 5 Axes>"
            ],
            "image/png": "[encoded data removed]"
          },
          "metadata": {}
        },
        {
          "output_type": "stream",
          "name": "stderr",
          "text": [
            "DQN_05_187_147554:  63%|██████▎   | 2502/4000 [10:47<06:39,  3.75episode/s, ep_reward=1, epsilon=0.05, loss=3.91e-5, train_reward=1]"
          ]
        },
        {
          "output_type": "stream",
          "name": "stdout",
          "text": [
            "[1, 1, 1, 1, 2, 2, 3, 2, 2, 2, 1, 4]\n"
          ]
        },
        {
          "output_type": "stream",
          "name": "stderr",
          "text": [
            "DQN_05_187_147554:  65%|██████▌   | 2600/4000 [11:02<02:52,  8.14episode/s, ep_reward=1, epsilon=0.05, loss=4.14e-10, train_reward=1]"
          ]
        },
        {
          "output_type": "display_data",
          "data": {
            "text/plain": [
              "<Figure size 640x480 with 5 Axes>"
            ],
            "image/png": "[encoded data removed]"
          },
          "metadata": {}
        },
        {
          "output_type": "stream",
          "name": "stderr",
          "text": [
            "DQN_05_187_147554:  65%|██████▌   | 2602/4000 [11:02<05:43,  4.07episode/s, ep_reward=1, epsilon=0.05, loss=4.6e-10, train_reward=-100]"
          ]
        },
        {
          "output_type": "stream",
          "name": "stdout",
          "text": [
            "[1, 1, 1, 1, 2, 2, 3, 2, 2, 2, 1, 4]\n"
          ]
        },
        {
          "output_type": "stream",
          "name": "stderr",
          "text": [
            "DQN_05_187_147554:  68%|██████▊   | 2700/4000 [11:16<02:57,  7.31episode/s, ep_reward=1, epsilon=0.05, loss=2.43e-9, train_reward=1]"
          ]
        },
        {
          "output_type": "display_data",
          "data": {
            "text/plain": [
              "<Figure size 640x480 with 5 Axes>"
            ],
            "image/png": "[encoded data removed]"
          },
          "metadata": {}
        },
        {
          "output_type": "stream",
          "name": "stderr",
          "text": [
            "DQN_05_187_147554:  68%|██████▊   | 2702/4000 [11:17<05:33,  3.90episode/s, ep_reward=1, epsilon=0.05, loss=1.99e-9, train_reward=1]"
          ]
        },
        {
          "output_type": "stream",
          "name": "stdout",
          "text": [
            "[1, 1, 1, 1, 2, 2, 3, 2, 2, 2, 1, 4]\n"
          ]
        },
        {
          "output_type": "stream",
          "name": "stderr",
          "text": [
            "DQN_05_187_147554:  70%|███████   | 2800/4000 [11:30<02:15,  8.88episode/s, ep_reward=1, epsilon=0.05, loss=5.77e-8, train_reward=1]"
          ]
        },
        {
          "output_type": "display_data",
          "data": {
            "text/plain": [
              "<Figure size 640x480 with 5 Axes>"
            ],
            "image/png": "[encoded data removed]"
          },
          "metadata": {}
        },
        {
          "output_type": "stream",
          "name": "stderr",
          "text": [
            "DQN_05_187_147554:  70%|███████   | 2802/4000 [11:30<04:34,  4.36episode/s, ep_reward=1, epsilon=0.05, loss=5.19e-8, train_reward=1]"
          ]
        },
        {
          "output_type": "stream",
          "name": "stdout",
          "text": [
            "[1, 1, 1, 1, 2, 2, 3, 2, 2, 2, 1, 4]\n"
          ]
        },
        {
          "output_type": "stream",
          "name": "stderr",
          "text": [
            "DQN_05_187_147554:  72%|███████▎  | 2900/4000 [11:44<02:26,  7.51episode/s, ep_reward=1, epsilon=0.05, loss=6.68e-9, train_reward=1]"
          ]
        },
        {
          "output_type": "display_data",
          "data": {
            "text/plain": [
              "<Figure size 640x480 with 5 Axes>"
            ],
            "image/png": "[encoded data removed]"
          },
          "metadata": {}
        },
        {
          "output_type": "stream",
          "name": "stderr",
          "text": [
            "DQN_05_187_147554:  73%|███████▎  | 2902/4000 [11:45<04:39,  3.94episode/s, ep_reward=1, epsilon=0.05, loss=7.28e-9, train_reward=1]"
          ]
        },
        {
          "output_type": "stream",
          "name": "stdout",
          "text": [
            "[1, 1, 1, 1, 2, 2, 3, 2, 2, 2, 1, 4]\n"
          ]
        },
        {
          "output_type": "stream",
          "name": "stderr",
          "text": [
            "DQN_05_187_147554:  75%|███████▌  | 3000/4000 [11:57<01:53,  8.78episode/s, ep_reward=1, epsilon=0.05, loss=0.000197, train_reward=1]"
          ]
        },
        {
          "output_type": "display_data",
          "data": {
            "text/plain": [
              "<Figure size 640x480 with 5 Axes>"
            ],
            "image/png": "[encoded data removed]"
          },
          "metadata": {}
        },
        {
          "output_type": "stream",
          "name": "stderr",
          "text": [
            "DQN_05_187_147554:  75%|███████▌  | 3002/4000 [11:58<03:57,  4.21episode/s, ep_reward=1, epsilon=0.05, loss=7.79e-6, train_reward=-100]"
          ]
        },
        {
          "output_type": "stream",
          "name": "stdout",
          "text": [
            "[1, 1, 1, 1, 2, 2, 3, 2, 2, 2, 1, 4]\n"
          ]
        },
        {
          "output_type": "stream",
          "name": "stderr",
          "text": [
            "DQN_05_187_147554:  78%|███████▊  | 3100/4000 [12:11<01:51,  8.07episode/s, ep_reward=1, epsilon=0.05, loss=2.82e-8, train_reward=1]"
          ]
        },
        {
          "output_type": "display_data",
          "data": {
            "text/plain": [
              "<Figure size 640x480 with 5 Axes>"
            ],
            "image/png": "[encoded data removed]"
          },
          "metadata": {}
        },
        {
          "output_type": "stream",
          "name": "stderr",
          "text": [
            "DQN_05_187_147554:  78%|███████▊  | 3103/4000 [12:12<03:47,  3.95episode/s, ep_reward=1, epsilon=0.05, loss=3.08e-8, train_reward=1]"
          ]
        },
        {
          "output_type": "stream",
          "name": "stdout",
          "text": [
            "[1, 1, 1, 1, 2, 2, 3, 2, 2, 2, 1, 4]\n"
          ]
        },
        {
          "output_type": "stream",
          "name": "stderr",
          "text": [
            "DQN_05_187_147554:  80%|████████  | 3200/4000 [12:26<01:48,  7.37episode/s, ep_reward=1, epsilon=0.05, loss=1.98e-6, train_reward=1]"
          ]
        },
        {
          "output_type": "display_data",
          "data": {
            "text/plain": [
              "<Figure size 640x480 with 5 Axes>"
            ],
            "image/png": "[encoded data removed]"
          },
          "metadata": {}
        },
        {
          "output_type": "stream",
          "name": "stderr",
          "text": [
            "DQN_05_187_147554:  80%|████████  | 3202/4000 [12:26<03:29,  3.80episode/s, ep_reward=1, epsilon=0.05, loss=0.000103, train_reward=1]"
          ]
        },
        {
          "output_type": "stream",
          "name": "stdout",
          "text": [
            "[1, 1, 1, 1, 2, 2, 3, 2, 2, 2, 1, 4]\n"
          ]
        },
        {
          "output_type": "stream",
          "name": "stderr",
          "text": [
            "DQN_05_187_147554:  82%|████████▎ | 3300/4000 [12:41<01:35,  7.32episode/s, ep_reward=1, epsilon=0.05, loss=4.68e-7, train_reward=1]"
          ]
        },
        {
          "output_type": "display_data",
          "data": {
            "text/plain": [
              "<Figure size 640x480 with 5 Axes>"
            ],
            "image/png": "[encoded data removed]"
          },
          "metadata": {}
        },
        {
          "output_type": "stream",
          "name": "stderr",
          "text": [
            "DQN_05_187_147554:  83%|████████▎ | 3301/4000 [12:42<04:11,  2.78episode/s, ep_reward=1, epsilon=0.05, loss=1.11e-7, train_reward=1]"
          ]
        },
        {
          "output_type": "stream",
          "name": "stdout",
          "text": [
            "[1, 1, 1, 1, 2, 2, 3, 2, 2, 2, 1, 4]\n"
          ]
        },
        {
          "output_type": "stream",
          "name": "stderr",
          "text": [
            "DQN_05_187_147554:  85%|████████▌ | 3400/4000 [12:55<01:31,  6.57episode/s, ep_reward=1, epsilon=0.05, loss=1.2e-6, train_reward=1]"
          ]
        },
        {
          "output_type": "display_data",
          "data": {
            "text/plain": [
              "<Figure size 640x480 with 5 Axes>"
            ],
            "image/png": "[encoded data removed]"
          },
          "metadata": {}
        },
        {
          "output_type": "stream",
          "name": "stderr",
          "text": [
            "DQN_05_187_147554:  85%|████████▌ | 3402/4000 [12:56<03:23,  2.93episode/s, ep_reward=1, epsilon=0.05, loss=8.29e-7, train_reward=1]"
          ]
        },
        {
          "output_type": "stream",
          "name": "stdout",
          "text": [
            "[1, 1, 1, 1, 2, 2, 3, 2, 2, 2, 1, 4]\n"
          ]
        },
        {
          "output_type": "stream",
          "name": "stderr",
          "text": [
            "DQN_05_187_147554:  88%|████████▊ | 3500/4000 [13:10<01:31,  5.45episode/s, ep_reward=1, epsilon=0.05, loss=0.0337, train_reward=1]"
          ]
        },
        {
          "output_type": "display_data",
          "data": {
            "text/plain": [
              "<Figure size 640x480 with 5 Axes>"
            ],
            "image/png": "[encoded data removed]"
          },
          "metadata": {}
        },
        {
          "output_type": "stream",
          "name": "stderr",
          "text": [
            "DQN_05_187_147554:  88%|████████▊ | 3502/4000 [13:11<03:06,  2.66episode/s, ep_reward=1, epsilon=0.05, loss=0.00335, train_reward=1]"
          ]
        },
        {
          "output_type": "stream",
          "name": "stdout",
          "text": [
            "[1, 1, 1, 1, 2, 2, 3, 2, 2, 2, 1, 4]\n"
          ]
        },
        {
          "output_type": "stream",
          "name": "stderr",
          "text": [
            "DQN_05_187_147554:  90%|█████████ | 3600/4000 [13:26<01:02,  6.41episode/s, ep_reward=1, epsilon=0.05, loss=2.76e-8, train_reward=1]"
          ]
        },
        {
          "output_type": "display_data",
          "data": {
            "text/plain": [
              "<Figure size 640x480 with 5 Axes>"
            ],
            "image/png": "[encoded data removed]"
          },
          "metadata": {}
        },
        {
          "output_type": "stream",
          "name": "stderr",
          "text": [
            "DQN_05_187_147554:  90%|█████████ | 3602/4000 [13:27<01:57,  3.38episode/s, ep_reward=1, epsilon=0.05, loss=1.64e-7, train_reward=1]"
          ]
        },
        {
          "output_type": "stream",
          "name": "stdout",
          "text": [
            "[1, 1, 1, 1, 2, 2, 3, 2, 2, 2, 1, 4]\n"
          ]
        },
        {
          "output_type": "stream",
          "name": "stderr",
          "text": [
            "DQN_05_187_147554:  92%|█████████▎| 3700/4000 [13:43<00:58,  5.16episode/s, ep_reward=1, epsilon=0.05, loss=0.000174, train_reward=1]"
          ]
        },
        {
          "output_type": "display_data",
          "data": {
            "text/plain": [
              "<Figure size 640x480 with 5 Axes>"
            ],
            "image/png": "[encoded data removed]"
          },
          "metadata": {}
        },
        {
          "output_type": "stream",
          "name": "stderr",
          "text": [
            "DQN_05_187_147554:  93%|█████████▎| 3702/4000 [13:44<01:30,  3.28episode/s, ep_reward=1, epsilon=0.05, loss=2.93e-5, train_reward=1]"
          ]
        },
        {
          "output_type": "stream",
          "name": "stdout",
          "text": [
            "[1, 1, 1, 1, 2, 2, 3, 2, 2, 2, 1, 4]\n"
          ]
        },
        {
          "output_type": "stream",
          "name": "stderr",
          "text": [
            "DQN_05_187_147554:  95%|█████████▌| 3800/4000 [14:00<00:30,  6.55episode/s, ep_reward=1, epsilon=0.05, loss=9.38e-6, train_reward=1]"
          ]
        },
        {
          "output_type": "display_data",
          "data": {
            "text/plain": [
              "<Figure size 640x480 with 5 Axes>"
            ],
            "image/png": "[encoded data removed]"
          },
          "metadata": {}
        },
        {
          "output_type": "stream",
          "name": "stderr",
          "text": [
            "DQN_05_187_147554:  95%|█████████▌| 3802/4000 [14:00<00:55,  3.59episode/s, ep_reward=1, epsilon=0.05, loss=3.55e-5, train_reward=1]"
          ]
        },
        {
          "output_type": "stream",
          "name": "stdout",
          "text": [
            "[1, 1, 1, 1, 2, 2, 3, 2, 2, 2, 1, 4]\n"
          ]
        },
        {
          "output_type": "stream",
          "name": "stderr",
          "text": [
            "DQN_05_187_147554:  97%|█████████▋| 3899/4000 [14:16<00:17,  5.83episode/s, ep_reward=1, epsilon=0.05, loss=4.7e-7, train_reward=-100]"
          ]
        },
        {
          "output_type": "display_data",
          "data": {
            "text/plain": [
              "<Figure size 640x480 with 5 Axes>"
            ],
            "image/png": "[encoded data removed]"
          },
          "metadata": {}
        },
        {
          "output_type": "stream",
          "name": "stderr",
          "text": [
            "DQN_05_187_147554:  98%|█████████▊| 3901/4000 [14:17<00:34,  2.89episode/s, ep_reward=1, epsilon=0.05, loss=4.27e-6, train_reward=1]   "
          ]
        },
        {
          "output_type": "stream",
          "name": "stdout",
          "text": [
            "[1, 1, 1, 1, 2, 2, 3, 2, 2, 2, 1, 4]\n"
          ]
        },
        {
          "output_type": "stream",
          "name": "stderr",
          "text": [
            "DQN_05_187_147554: 100%|██████████| 4000/4000 [14:32<00:00,  4.58episode/s, ep_reward=1, epsilon=0.05, loss=9.79e-7, train_reward=1]\n"
          ]
        },
        {
          "output_type": "error",
          "ename": "FileNotFoundError",
          "evalue": "[Errno 2] No such file or directory: '/kaggle/working/DangerMaze_DQN_05_0.json'",
          "traceback": [
            "\u001b[0;31m---------------------------------------------------------------------------\u001b[0m",
            "\u001b[0;31mFileNotFoundError\u001b[0m                         Traceback (most recent call last)",
            "\u001b[0;32m<ipython-input-223-c40f4df4d572>\u001b[0m in \u001b[0;36m<cell line: 1>\u001b[0;34m()\u001b[0m\n\u001b[1;32m     87\u001b[0m \u001b[0;34m\u001b[0m\u001b[0m\n\u001b[1;32m     88\u001b[0m     \u001b[0mto_be_saved\u001b[0m \u001b[0;34m=\u001b[0m \u001b[0;34m{\u001b[0m\u001b[0;34m\"loss\"\u001b[0m\u001b[0;34m:\u001b[0m \u001b[0mnp\u001b[0m\u001b[0;34m.\u001b[0m\u001b[0marray\u001b[0m\u001b[0;34m(\u001b[0m\u001b[0mlosses\u001b[0m\u001b[0;34m)\u001b[0m\u001b[0;34m.\u001b[0m\u001b[0mtolist\u001b[0m\u001b[0;34m(\u001b[0m\u001b[0;34m)\u001b[0m\u001b[0;34m,\u001b[0m \u001b[0;34m\"train_reward\"\u001b[0m\u001b[0;34m:\u001b[0m \u001b[0mrewards\u001b[0m\u001b[0;34m,\u001b[0m \u001b[0;34m\"eval_reward\"\u001b[0m\u001b[0;34m:\u001b[0m \u001b[0maverage_rewards\u001b[0m\u001b[0;34m}\u001b[0m\u001b[0;34m\u001b[0m\u001b[0;34m\u001b[0m\u001b[0m\n\u001b[0;32m---> 89\u001b[0;31m     \u001b[0;32mwith\u001b[0m \u001b[0mopen\u001b[0m\u001b[0;34m(\u001b[0m\u001b[0;34mf\"/kaggle/working/{env_id[15:25]}_{netwrok_names[i][:7]}{seed}.json\"\u001b[0m\u001b[0;34m,\u001b[0m \u001b[0;34m\"w\"\u001b[0m\u001b[0;34m)\u001b[0m \u001b[0;32mas\u001b[0m \u001b[0mf\u001b[0m\u001b[0;34m:\u001b[0m\u001b[0;34m\u001b[0m\u001b[0;34m\u001b[0m\u001b[0m\n\u001b[0m\u001b[1;32m     90\u001b[0m       \u001b[0mjson\u001b[0m\u001b[0;34m.\u001b[0m\u001b[0mdump\u001b[0m\u001b[0;34m(\u001b[0m\u001b[0mto_be_saved\u001b[0m\u001b[0;34m,\u001b[0m \u001b[0mf\u001b[0m\u001b[0;34m)\u001b[0m\u001b[0;34m\u001b[0m\u001b[0;34m\u001b[0m\u001b[0m\n",
            "\u001b[0;31mFileNotFoundError\u001b[0m: [Errno 2] No such file or directory: '/kaggle/working/DangerMaze_DQN_05_0.json'"
          ]
        }
      ]
    },
    {
      "cell_type": "markdown",
      "source": [
        "# Visualization"
      ],
      "metadata": {
        "id": "ptjV-i4LGaj4"
      }
    }
  ]
}