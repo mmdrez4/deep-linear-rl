{
  "cells": [
    {
      "cell_type": "code",
      "source": [
        "# Restart the session after running this cell (Run it once!)\n",
        "!git clone https://github.com/sparisi/gym_gridworlds\n",
        "!pip install -e ./gym_gridworlds"
      ],
      "metadata": {
        "colab": {
          "base_uri": "https://localhost:8080/"
        },
        "id": "hlY9Ig2pE5qj",
        "outputId": "9bc6341d-4792-40b1-eaab-a0ab4b81855b"
      },
      "execution_count": 1,
      "outputs": [
        {
          "output_type": "stream",
          "name": "stdout",
          "text": [
            "Cloning into 'gym_gridworlds'...\n",
            "remote: Enumerating objects: 166, done.\u001b[K\n",
            "remote: Counting objects: 100% (27/27), done.\u001b[K\n",
            "remote: Compressing objects: 100% (10/10), done.\u001b[K\n",
            "remote: Total 166 (delta 22), reused 17 (delta 17), pack-reused 139 (from 1)\u001b[K\n",
            "Receiving objects: 100% (166/166), 68.22 KiB | 9.75 MiB/s, done.\n",
            "Resolving deltas: 100% (86/86), done.\n",
            "Obtaining file:///content/gym_gridworlds\n",
            "  Preparing metadata (setup.py) ... \u001b[?25l\u001b[?25hdone\n",
            "Collecting gymnasium (from Gym-Gridworlds==1.0)\n",
            "  Downloading gymnasium-1.0.0-py3-none-any.whl.metadata (9.5 kB)\n",
            "Requirement already satisfied: pygame in /usr/local/lib/python3.10/dist-packages (from Gym-Gridworlds==1.0) (2.6.1)\n",
            "Requirement already satisfied: numpy>=1.21.0 in /usr/local/lib/python3.10/dist-packages (from gymnasium->Gym-Gridworlds==1.0) (1.26.4)\n",
            "Requirement already satisfied: cloudpickle>=1.2.0 in /usr/local/lib/python3.10/dist-packages (from gymnasium->Gym-Gridworlds==1.0) (3.1.0)\n",
            "Requirement already satisfied: typing-extensions>=4.3.0 in /usr/local/lib/python3.10/dist-packages (from gymnasium->Gym-Gridworlds==1.0) (4.12.2)\n",
            "Collecting farama-notifications>=0.0.1 (from gymnasium->Gym-Gridworlds==1.0)\n",
            "  Downloading Farama_Notifications-0.0.4-py3-none-any.whl.metadata (558 bytes)\n",
            "Downloading gymnasium-1.0.0-py3-none-any.whl (958 kB)\n",
            "\u001b[2K   \u001b[90m━━━━━━━━━━━━━━━━━━━━━━━━━━━━━━━━━━━━━━━━\u001b[0m \u001b[32m958.1/958.1 kB\u001b[0m \u001b[31m17.0 MB/s\u001b[0m eta \u001b[36m0:00:00\u001b[0m\n",
            "\u001b[?25hDownloading Farama_Notifications-0.0.4-py3-none-any.whl (2.5 kB)\n",
            "Installing collected packages: farama-notifications, gymnasium, Gym-Gridworlds\n",
            "  Running setup.py develop for Gym-Gridworlds\n",
            "Successfully installed Gym-Gridworlds-1.0 farama-notifications-0.0.4 gymnasium-1.0.0\n"
          ]
        }
      ]
    },
    {
      "cell_type": "markdown",
      "source": [
        "# Register Envoronments in Gym"
      ],
      "metadata": {
        "id": "W3Gq3o_bGy10"
      }
    },
    {
      "cell_type": "code",
      "source": [
        "from gymnasium.envs.registration import register\n",
        "\n",
        "register(\n",
        "    id=\"Gym-Gridworlds/Straight-20-v0\",\n",
        "    entry_point=\"gym_gridworlds.gridworld:Gridworld\",\n",
        "    max_episode_steps=200,\n",
        "    kwargs={\n",
        "        \"grid\": \"20_straight\",\n",
        "    },\n",
        ")\n",
        "\n",
        "register(\n",
        "    id=\"Gym-Gridworlds/Empty-2x2-v0\",\n",
        "    entry_point=\"gym_gridworlds.gridworld:GridworldRandomStart\",\n",
        "    max_episode_steps=10,\n",
        "    kwargs={\n",
        "        \"grid\": \"2x2_empty\",\n",
        "    },\n",
        ")\n",
        "\n",
        "register(\n",
        "    id=\"Gym-Gridworlds/Empty-3x3-v0\",\n",
        "    entry_point=\"gym_gridworlds.gridworld:GridworldRandomStart\",\n",
        "    max_episode_steps=50,\n",
        "    kwargs={\n",
        "        \"grid\": \"3x3_empty\",\n",
        "    },\n",
        ")\n",
        "\n",
        "register(\n",
        "    id=\"Gym-Gridworlds/Empty-Loop-3x3-v0\",\n",
        "    entry_point=\"gym_gridworlds.gridworld:Gridworld\",\n",
        "    max_episode_steps=50,\n",
        "    kwargs={\n",
        "        \"grid\": \"3x3_empty_loop\",\n",
        "    },\n",
        ")\n",
        "\n",
        "register(\n",
        "    id=\"Gym-Gridworlds/Empty-10x10-v0\",\n",
        "    entry_point=\"gym_gridworlds.gridworld:Gridworld\",\n",
        "    max_episode_steps=100,\n",
        "    kwargs={\n",
        "        \"grid\": \"10x10_empty\",\n",
        "    },\n",
        ")\n",
        "\n",
        "register(\n",
        "    id=\"Gym-Gridworlds/Empty-Distract-6x6-v0\",\n",
        "    entry_point=\"gym_gridworlds.gridworld:Gridworld\",\n",
        "    max_episode_steps=50,\n",
        "    kwargs={\n",
        "        \"grid\": \"6x6_distract\",\n",
        "    },\n",
        ")\n",
        "\n",
        "register(\n",
        "    id=\"Gym-Gridworlds/Penalty-3x3-v0\",\n",
        "    entry_point=\"gym_gridworlds.gridworld:Gridworld\",\n",
        "    max_episode_steps=50,\n",
        "    kwargs={\n",
        "        \"grid\": \"3x3_penalty\",\n",
        "    },\n",
        ")\n",
        "\n",
        "register(\n",
        "    id=\"Gym-Gridworlds/Quicksand-4x4-v0\",\n",
        "    entry_point=\"gym_gridworlds.gridworld:Gridworld\",\n",
        "    max_episode_steps=50,\n",
        "    kwargs={\n",
        "        \"grid\": \"4x4_quicksand\",\n",
        "    },\n",
        ")\n",
        "\n",
        "register(\n",
        "    id=\"Gym-Gridworlds/Quicksand-Distract-4x4-v0\",\n",
        "    entry_point=\"gym_gridworlds.gridworld:Gridworld\",\n",
        "    max_episode_steps=50,\n",
        "    kwargs={\n",
        "        \"grid\": \"4x4_quicksand_distract\",\n",
        "    },\n",
        ")\n",
        "\n",
        "register(\n",
        "    id=\"Gym-Gridworlds/TwoRoom-Quicksand-3x5-v0\",\n",
        "    entry_point=\"gym_gridworlds.gridworld:Gridworld\",\n",
        "    max_episode_steps=50,\n",
        "    kwargs={\n",
        "        \"grid\": \"3x5_two_room_quicksand\",\n",
        "    },\n",
        ")\n",
        "\n",
        "register(\n",
        "    id=\"Gym-Gridworlds/Corridor-3x4-v0\",\n",
        "    entry_point=\"gym_gridworlds.gridworld:Gridworld\",\n",
        "    max_episode_steps=50,\n",
        "    kwargs={\n",
        "        \"grid\": \"3x4_corridor\",\n",
        "    },\n",
        ")\n",
        "register(\n",
        "    id=\"Gym-Gridworlds/Full-4x5-v0\",\n",
        "    entry_point=\"gym_gridworlds.gridworld:Gridworld\",\n",
        "    max_episode_steps=50,\n",
        "    kwargs={\n",
        "        \"grid\": \"4x5_full\",\n",
        "    },\n",
        ")\n",
        "\n",
        "register(\n",
        "    id=\"Gym-Gridworlds/TwoRoom-Distract-Middle-2x11-v0\",\n",
        "    entry_point=\"gym_gridworlds.gridworld:GridworldMiddleStart\",\n",
        "    max_episode_steps=200,\n",
        "    kwargs={\n",
        "        \"grid\": \"2x11_two_room_distract\",\n",
        "    },\n",
        ")\n",
        "\n",
        "register(\n",
        "    id=\"Gym-Gridworlds/Barrier-5x5-v0\",\n",
        "    entry_point=\"gym_gridworlds.gridworld:Gridworld\",\n",
        "    max_episode_steps=50,\n",
        "    kwargs={\n",
        "        \"grid\": \"5x5_barrier\",\n",
        "    },\n",
        ")\n",
        "\n",
        "register(\n",
        "    id=\"Gym-Gridworlds/RiverSwim-6-v0\",\n",
        "    entry_point=\"gym_gridworlds.gridworld:RiverSwim\",\n",
        "    max_episode_steps=200,\n",
        "    kwargs={\n",
        "        \"grid\": \"river_swim_6\",\n",
        "    },\n",
        ")\n",
        "\n",
        "register(\n",
        "    id=\"Gym-Gridworlds/CliffWalk-4x12-v0\",\n",
        "    entry_point=\"gym_gridworlds.gridworld:Gridworld\",\n",
        "    max_episode_steps=200,\n",
        "    kwargs={\n",
        "        \"grid\": \"4x12_cliffwalk\",\n",
        "    },\n",
        ")\n",
        "\n",
        "register(\n",
        "    id=\"Gym-Gridworlds/DangerMaze-6x6-v0\",\n",
        "    entry_point=\"gym_gridworlds.gridworld:Gridworld\",\n",
        "    max_episode_steps=200,\n",
        "    kwargs={\n",
        "        \"grid\": \"6x6_danger_maze\",\n",
        "    },\n",
        ")"
      ],
      "metadata": {
        "id": "JngHQiknE_hC"
      },
      "execution_count": 1,
      "outputs": []
    },
    {
      "cell_type": "markdown",
      "source": [
        "# Import Libraries"
      ],
      "metadata": {
        "id": "ArzuUc8WFVOs"
      }
    },
    {
      "cell_type": "code",
      "source": [
        "import numpy as np\n",
        "import torch\n",
        "import torch.nn as nn\n",
        "import torch.optim as optim\n",
        "import torch.nn.functional as F\n",
        "import random\n",
        "from collections import namedtuple, deque\n",
        "import gym\n",
        "import gymnasium\n",
        "from tqdm import trange\n",
        "import matplotlib.pyplot as plt"
      ],
      "metadata": {
        "id": "HaIz8uDLTyZY",
        "colab": {
          "base_uri": "https://localhost:8080/"
        },
        "outputId": "a275c0a4-11e2-450d-9721-8a611c2bfd3d"
      },
      "execution_count": 100,
      "outputs": [
        {
          "output_type": "stream",
          "name": "stderr",
          "text": [
            "/usr/local/lib/python3.10/dist-packages/ipykernel/ipkernel.py:283: DeprecationWarning: `should_run_async` will not call `transform_cell` automatically in the future. Please pass the result to `transformed_cell` argument and any exception that happen during thetransform in `preprocessing_exc_tuple` in IPython 7.17 and above.\n",
            "  and should_run_async(code)\n"
          ]
        }
      ]
    },
    {
      "cell_type": "code",
      "source": [
        "device = torch.device(\"cuda\" if torch.cuda.is_available() else \"cpu\")\n",
        "print(device)"
      ],
      "metadata": {
        "colab": {
          "base_uri": "https://localhost:8080/"
        },
        "id": "WS8cWkmWGi4K",
        "outputId": "25737d18-cae5-4f11-db7d-f0e3d8ec6e50"
      },
      "execution_count": 3,
      "outputs": [
        {
          "output_type": "stream",
          "name": "stdout",
          "text": [
            "cuda\n"
          ]
        },
        {
          "output_type": "stream",
          "name": "stderr",
          "text": [
            "/usr/local/lib/python3.10/dist-packages/ipykernel/ipkernel.py:283: DeprecationWarning: `should_run_async` will not call `transform_cell` automatically in the future. Please pass the result to `transformed_cell` argument and any exception that happen during thetransform in `preprocessing_exc_tuple` in IPython 7.17 and above.\n",
            "  and should_run_async(code)\n"
          ]
        }
      ]
    },
    {
      "cell_type": "code",
      "source": [
        "import warnings\n",
        "warnings.filterwarnings('ignore')"
      ],
      "metadata": {
        "id": "Kbdag6O4WFIj"
      },
      "execution_count": 116,
      "outputs": []
    },
    {
      "cell_type": "markdown",
      "source": [
        "# Feature Functions"
      ],
      "metadata": {
        "id": "joqj9DFyFkcq"
      }
    },
    {
      "cell_type": "code",
      "source": [
        "def rbf_features(\n",
        "    state,\n",
        "    centers,\n",
        "    sigmas: float,\n",
        "):\n",
        "    state = torch.tensor(state, device=device)\n",
        "    centers = torch.tensor(centers, device=device)\n",
        "    D = centers.shape[0]\n",
        "    N = state.shape[0]\n",
        "    new_state = state[:, None, :].repeat(1, D, 1)\n",
        "    new_center = centers.repeat(N, 1, 1)\n",
        "    return torch.exp(-torch.linalg.norm(new_state - new_center, 2, axis=2)**2 / sigmas**2 / 2)\n",
        "\n",
        "\n",
        "def tile_features(\n",
        "    state: np.array,  # (N, S)\n",
        "    centers: np.array,  # (D, S)\n",
        "    widths: float,\n",
        "    offsets: list = [0],  # list of tuples of length S\n",
        ") -> np.array:  # (N, D)\n",
        "\n",
        "    D = np.shape(centers)[0]\n",
        "    N = np.shape(state)[0]\n",
        "    new_state = np.repeat(state[:, None, :], D, axis=1)\n",
        "    output = np.zeros((N, D))\n",
        "    for offset in offsets:\n",
        "        shifted_center = centers + offset\n",
        "        new_center = np.repeat(shifted_center[None, :, :], N, axis=0)\n",
        "        output += np.array(np.linalg.norm(new_state - new_center, np.inf, axis=2) < widths, dtype=np.float32)\n",
        "\n",
        "    return output / len(offsets)\n",
        "\n",
        "\n",
        "def coarse_features(\n",
        "    state: np.array,  # (N, S)\n",
        "    centers: np.array,  # (D, S)\n",
        "    widths: float,\n",
        "    offsets: list = [0],  # list of tuples of length S\n",
        ") -> np.array:  # (N, D)\n",
        "\n",
        "    D = np.shape(centers)[0]\n",
        "    N = np.shape(state)[0]\n",
        "    new_state = np.repeat(state[:, None, :], D, axis=1)\n",
        "    output = np.zeros((N, D))\n",
        "    for offset in offsets:\n",
        "        shifted_center = centers + offset\n",
        "        new_center = np.repeat(shifted_center[None, :, :], N, axis=0)\n",
        "        output += np.array(np.linalg.norm(new_state - new_center, 2, axis=2) < widths, dtype=np.float32)\n",
        "\n",
        "    return output / len(offsets)\n",
        "\n",
        "def aggregation_features(state, centers):\n",
        "    state = torch.tensor(state, device=device)\n",
        "    centers = torch.tensor(centers, device=device)\n",
        "\n",
        "    distance = torch.sum((state[:, None, :] - centers[None, :, :])**2, dim=-1)\n",
        "    return (distance == distance.min(-1, keepdims=True).values) * 1.0  # make it float\n"
      ],
      "metadata": {
        "id": "MHAAP-0zM7YS"
      },
      "execution_count": 4,
      "outputs": []
    },
    {
      "cell_type": "code",
      "source": [
        "s = np.array([[1, 2]])\n",
        "c = np.array([[0, 0], [1, 1], [4, 4], [6, 6]])\n",
        "aggregation_features(s, c)"
      ],
      "metadata": {
        "colab": {
          "base_uri": "https://localhost:8080/"
        },
        "id": "wGcb4NywalLn",
        "outputId": "0bd6ad04-2fd3-464a-c9cb-3a5d8c98fe70"
      },
      "execution_count": 5,
      "outputs": [
        {
          "output_type": "execute_result",
          "data": {
            "text/plain": [
              "tensor([[0., 1., 0., 0.]], device='cuda:0')"
            ]
          },
          "metadata": {},
          "execution_count": 5
        }
      ]
    },
    {
      "cell_type": "markdown",
      "source": [
        "# Network"
      ],
      "metadata": {
        "id": "6LaO9SJLFo7p"
      }
    },
    {
      "cell_type": "code",
      "source": [
        "# Define the neural network model\n",
        "class QNetwork(nn.Module):\n",
        "    def __init__(self, state_size, action_size, seed):\n",
        "        super().__init__()\n",
        "        self.seed = torch.manual_seed(seed)\n",
        "\n",
        "        self.feature_size = self.feature_extract_init(state_size, action_size)\n",
        "\n",
        "    def init_weights(self, layer):\n",
        "        nn.init.xavier_normal(layer.weight)\n",
        "        self.to(device)\n",
        "\n",
        "    def feature_extract_init(self, state_size, action_size):\n",
        "        n_centers = [10, 10]\n",
        "        centers = np.array(\n",
        "          np.meshgrid(*[\n",
        "              np.linspace(env.observation_space.low[i], env.observation_space.high[i], n_centers[i])\n",
        "              for i in range(env.observation_space.shape[0])\n",
        "          ])\n",
        "        ).reshape(env.observation_space.shape[0], -1).T\n",
        "        centers = torch.tensor(centers).float().to(device)\n",
        "        #self.feature_name, self.feature_extract = \"Aggregate\", lambda state : aggregation_features(state.reshape(-1, state_size), centers)\n",
        "        self.feature_name, self.feature_extract = \"RBF\", lambda state : rbf_features(state.reshape(-1, state_size), centers, 0.2)\n",
        "        return self.feature_extract(env.reset()[0]).shape[1]"
      ],
      "metadata": {
        "id": "k6kdTlQtHlmF"
      },
      "execution_count": 87,
      "outputs": []
    },
    {
      "cell_type": "code",
      "source": [
        "class QNetwork_0(QNetwork):\n",
        "    def __init__(self, state_size, action_size, seed):\n",
        "        super().__init__(state_size, action_size, seed)\n",
        "\n",
        "        self.fc1 = nn.Linear(self.feature_size, action_size)\n",
        "        self.init_weights(self.fc1)\n",
        "\n",
        "    def forward(self, state):\n",
        "        x = self.feature_extract(state)\n",
        "        return self.fc1(x)"
      ],
      "metadata": {
        "id": "9v3vA95lH2X-"
      },
      "execution_count": 88,
      "outputs": []
    },
    {
      "cell_type": "code",
      "execution_count": 89,
      "metadata": {
        "id": "3WZeWiE8IG57"
      },
      "outputs": [],
      "source": [
        "class QNetwork_1(QNetwork):\n",
        "    def __init__(self, state_size, action_size, seed, fc1_units=4096):\n",
        "        super().__init__(state_size, action_size, seed)\n",
        "\n",
        "        self.fc1 = nn.Linear(self.feature_size, fc1_units)\n",
        "        self.init_weights(self.fc1)\n",
        "        self.fc2 = nn.Linear(fc1_units, action_size)\n",
        "        self.init_weights(self.fc2)\n",
        "\n",
        "    def forward(self, state):\n",
        "        x = self.feature_extract(state)\n",
        "        x = self.fc1(x)\n",
        "        return self.fc2(x)"
      ]
    },
    {
      "cell_type": "code",
      "source": [
        "class QNetwork_2(QNetwork):\n",
        "    def __init__(self, state_size, action_size, seed, fc1_units=64, fc2_units=64):\n",
        "        super().__init__(state_size, action_size, seed)\n",
        "\n",
        "        self.fc1 = nn.Linear(self.feature_size, fc1_units)\n",
        "        self.init_weights(self.fc1)\n",
        "        self.fc2 = nn.Linear(fc1_units, fc2_units)\n",
        "        self.init_weights(self.fc2)\n",
        "        self.fc3 = nn.Linear(fc2_units, action_size)\n",
        "        self.init_weights(self.fc3)\n",
        "\n",
        "    def forward(self, state):\n",
        "        x = self.feature_extract(state)\n",
        "        x = self.fc1(x)\n",
        "        x = self.fc2(x)\n",
        "        return self.fc3(x)"
      ],
      "metadata": {
        "id": "zxQ0mhmwHkhj"
      },
      "execution_count": 90,
      "outputs": []
    },
    {
      "cell_type": "code",
      "source": [
        "class QNetwork_3(QNetwork):\n",
        "    def __init__(self, state_size, action_size, seed, fc1_units=16, fc2_units=16, fc3_units=16):\n",
        "        super().__init__(state_size, action_size, seed)\n",
        "\n",
        "        self.fc1 = nn.Linear(self.feature_size, fc1_units)\n",
        "        self.init_weights(self.fc1)\n",
        "        self.fc2 = nn.Linear(fc1_units, fc2_units)\n",
        "        self.init_weights(self.fc2)\n",
        "        self.fc3 = nn.Linear(fc2_units, fc3_units)\n",
        "        self.init_weights(self.fc3)\n",
        "        self.fc4 = nn.Linear(fc3_units, action_size)\n",
        "        self.init_weights(self.fc4)\n",
        "\n",
        "    def forward(self, state):\n",
        "        x = self.feature_extract(state)\n",
        "        x = self.fc1(x)\n",
        "        x = self.fc2(x)\n",
        "        x = self.fc3(x)\n",
        "        return self.fc4(x)"
      ],
      "metadata": {
        "id": "JxMVL-NoIj3R"
      },
      "execution_count": 91,
      "outputs": []
    },
    {
      "cell_type": "code",
      "source": [
        "class QNetwork_4(QNetwork):\n",
        "    def __init__(self, state_size, action_size, seed, fc1_units=8, fc2_units=8, fc3_units=8, fc4_units=8):\n",
        "        super().__init__(state_size, action_size, seed)\n",
        "\n",
        "        self.fc1 = nn.Linear(self.feature_size, fc1_units)\n",
        "        self.init_weights(self.fc1)\n",
        "        self.fc2 = nn.Linear(fc1_units, fc2_units)\n",
        "        self.init_weights(self.fc2)\n",
        "        self.fc3 = nn.Linear(fc2_units, fc3_units)\n",
        "        self.init_weights(self.fc3)\n",
        "        self.fc4 = nn.Linear(fc3_units, fc4_units)\n",
        "        self.init_weights(self.fc4)\n",
        "        self.fc5 = nn.Linear(fc4_units, action_size)\n",
        "        self.init_weights(self.fc5)\n",
        "\n",
        "    def forward(self, state):\n",
        "        x = self.feature_extract(state)\n",
        "        x = self.fc1(x)\n",
        "        x = self.fc2(x)\n",
        "        x = self.fc3(x)\n",
        "        x = self.fc4(x)\n",
        "        return self.fc5(x)"
      ],
      "metadata": {
        "id": "J20944JGJAXz"
      },
      "execution_count": 92,
      "outputs": []
    },
    {
      "cell_type": "markdown",
      "source": [
        "# ReplayBuffer"
      ],
      "metadata": {
        "id": "xH3J2_azF2Xh"
      }
    },
    {
      "cell_type": "code",
      "source": [
        "class ReplayBuffer:\n",
        "    def __init__(self, action_size, buffer_size, batch_size, seed):\n",
        "        self.action_size = action_size\n",
        "        self.memory = deque(maxlen=buffer_size)\n",
        "        self.batch_size = batch_size\n",
        "        self.experience = namedtuple(\"Experience\", field_names=[\"state\", \"action\", \"reward\", \"next_state\", \"done\"])\n",
        "        self.seed = random.seed(seed)\n",
        "\n",
        "    def add(self, state, action, reward, next_state, done):\n",
        "        e = self.experience(state, action, reward, next_state, done)\n",
        "        self.memory.append(e)\n",
        "\n",
        "    def sample(self):\n",
        "        experiences = random.sample(self.memory, k=self.batch_size)\n",
        "\n",
        "        states = torch.from_numpy(np.vstack([e.state for e in experiences if e is not None])).float().to(device)\n",
        "        actions = torch.from_numpy(np.vstack([e.action for e in experiences if e is not None])).long().to(device)\n",
        "        rewards = torch.from_numpy(np.vstack([e.reward for e in experiences if e is not None])).float().to(device)\n",
        "        next_states = torch.from_numpy(np.vstack([e.next_state for e in experiences if e is not None])).float().to(device)\n",
        "        dones = torch.from_numpy(np.vstack([e.done for e in experiences if e is not None]).astype(np.uint8)).float().to(device)\n",
        "\n",
        "        return (states, actions, rewards, next_states, dones)\n",
        "\n",
        "    def __len__(self):\n",
        "        return len(self.memory)"
      ],
      "metadata": {
        "id": "WUEjnATTF0PM"
      },
      "execution_count": 93,
      "outputs": []
    },
    {
      "cell_type": "markdown",
      "source": [
        "# DQN"
      ],
      "metadata": {
        "id": "Wq2snh0iFuqi"
      }
    },
    {
      "cell_type": "code",
      "execution_count": 94,
      "metadata": {
        "id": "SMqPt_ruIG59"
      },
      "outputs": [],
      "source": [
        "# Define the DQN agent class\n",
        "class DQNAgent:\n",
        "    # Initialize the DQN agent\n",
        "    def __init__(self, state_size, action_size, seed, lr, network):\n",
        "        self.state_size = state_size\n",
        "        self.action_size = action_size\n",
        "        self.seed = random.seed(seed)\n",
        "\n",
        "        self.qnetwork_local = network(state_size, action_size, seed).to(device)\n",
        "        self.qnetwork_target = network(state_size, action_size, seed).to(device)\n",
        "        self.optimizer = optim.Adam(self.qnetwork_local.parameters(), lr)\n",
        "\n",
        "        self.memory = ReplayBuffer(action_size, buffer_size=int(1e5), batch_size=64, seed=seed)\n",
        "        self.t_step = 0\n",
        "\n",
        "    def step(self, state, action, reward, next_state, done):\n",
        "        self.memory.add(state, action, reward, next_state, done)\n",
        "\n",
        "        self.t_step = (self.t_step + 1) % 4\n",
        "        if self.t_step == 0:\n",
        "            if len(self.memory) > 64:\n",
        "                experiences = self.memory.sample()\n",
        "                self.learn(experiences, gamma=0.99)\n",
        "\n",
        "    # Choose an action based on the current state\n",
        "    def act(self, state, eps=0.):\n",
        "        state_tensor = torch.from_numpy(state).float().unsqueeze(0).to(device)\n",
        "        self.qnetwork_local.eval()\n",
        "        with torch.no_grad():\n",
        "            action_values = self.qnetwork_local(state_tensor)\n",
        "        self.qnetwork_local.train()\n",
        "\n",
        "        if np.random.random() > eps:\n",
        "            return action_values.argmax(dim=1).item()\n",
        "        else:\n",
        "            return np.random.randint(self.action_size)\n",
        "\n",
        "    # Learn from batch of experiences\n",
        "    def learn(self, experiences, gamma):\n",
        "        states, actions, rewards, next_states, dones = zip(*experiences)\n",
        "        states = torch.from_numpy(np.vstack(states)).float().to(device)\n",
        "        actions = torch.from_numpy(np.vstack(actions)).long().to(device)\n",
        "        rewards = torch.from_numpy(np.vstack(rewards)).float().to(device)\n",
        "        next_states = torch.from_numpy(np.vstack(next_states)).float().to(device)\n",
        "        dones = torch.from_numpy(np.vstack(dones).astype(np.uint8)).float().to(device)\n",
        "\n",
        "        Q_targets_next = self.qnetwork_target(next_states).detach().max(1)[0].unsqueeze(1)\n",
        "        Q_targets = rewards + (gamma * Q_targets_next * (1 - dones))\n",
        "\n",
        "        Q_expected = self.qnetwork_local(states).gather(1, actions)\n",
        "\n",
        "        loss = F.mse_loss(Q_expected, Q_targets)\n",
        "        self.optimizer.zero_grad()\n",
        "        loss.backward()\n",
        "        self.optimizer.step()\n",
        "\n",
        "        self.soft_update(self.qnetwork_local, self.qnetwork_target, tau=1e-3)\n",
        "\n",
        "        return loss\n",
        "\n",
        "    def soft_update(self, local_model, target_model, tau):\n",
        "        for target_param, local_param in zip(target_model.parameters(), local_model.parameters()):\n",
        "            target_param.data.copy_(tau * local_param.data + (1.0 - tau) * target_param.data)"
      ]
    },
    {
      "cell_type": "markdown",
      "source": [
        "# Hyperparameters"
      ],
      "metadata": {
        "id": "WxOD0rGTF_Ee"
      }
    },
    {
      "cell_type": "code",
      "source": [
        "num_episodes = 1000\n",
        "max_steps_per_episode_train = 100\n",
        "max_steps_per_episode_eval = 25\n",
        "epsilon_start = 1.0\n",
        "epsilon_end = 0.05\n",
        "epsilon_decay_rate = 0.995\n",
        "gamma = 0.9\n",
        "lr = 1e-3\n",
        "buffer_size = 10000\n",
        "buffer = deque(maxlen=buffer_size)\n",
        "batch_size = 512\n",
        "update_frequency = 10\n",
        "episodes_eval = 10\n",
        "test_episodes = 100"
      ],
      "metadata": {
        "id": "ztLArg8OF-4o"
      },
      "execution_count": 95,
      "outputs": []
    },
    {
      "cell_type": "markdown",
      "source": [
        "# Setup Environment"
      ],
      "metadata": {
        "id": "fek2zIOuF5Me"
      }
    },
    {
      "cell_type": "code",
      "execution_count": 96,
      "metadata": {
        "colab": {
          "base_uri": "https://localhost:8080/"
        },
        "id": "nSD8eiX5IG5-",
        "outputId": "ffb7369e-ebc9-4b0d-b0c5-603a5bfe1be1"
      },
      "outputs": [
        {
          "output_type": "stream",
          "name": "stderr",
          "text": [
            "/usr/local/lib/python3.10/dist-packages/gymnasium/spaces/box.py:235: UserWarning: \u001b[33mWARN: Box low's precision lowered by casting to float32, current low.dtype=float64\u001b[0m\n",
            "  gym.logger.warn(\n"
          ]
        }
      ],
      "source": [
        "env_id = \"Gym-Gridworlds/DangerMaze-6x6-v0\"\n",
        "#env_id = \"Gym-Gridworlds/Empty-10x10-v0\"\n",
        "#env_id = \"Gym-Gridworlds/Penalty-3x3-v0\"\n",
        "env = gymnasium.make(env_id, coordinate_observation=True)\n",
        "env_eval = gymnasium.make(env_id, coordinate_observation=True, max_episode_steps=max_steps_per_episode_eval)"
      ]
    },
    {
      "cell_type": "markdown",
      "source": [
        "# DQN Agent"
      ],
      "metadata": {
        "id": "R_nWh5QTGSUN"
      }
    },
    {
      "cell_type": "code",
      "source": [
        "input_dim = env.observation_space.shape[0]\n",
        "output_dim = env.action_space.n\n",
        "networks = [QNetwork_0, QNetwork_1, QNetwork_2, QNetwork_3, QNetwork_4]\n",
        "netwrok_names = [\"QNetwork_0\", \"QNetwork_1\", \"QNetwork_2\", \"QNetwork_3\", \"QNetwork_4\"]\n",
        "\n",
        "data = {}\n",
        "for network in networks:\n",
        "  data[network] = {\"loss\": [], \"train_reward\": [], \"eval_reward\": []}"
      ],
      "metadata": {
        "id": "H2pzwB0CRL7X"
      },
      "execution_count": 113,
      "outputs": []
    },
    {
      "cell_type": "markdown",
      "source": [
        "# Evaluation"
      ],
      "metadata": {
        "id": "8sYE30Ry5bsn"
      }
    },
    {
      "cell_type": "code",
      "source": [
        "def eval(new_agent):\n",
        "  episode_rewards = []\n",
        "\n",
        "  for episode in range(test_episodes):\n",
        "      state, _ = env_eval.reset()\n",
        "      episode_reward = 0\n",
        "      done = False\n",
        "      while not done:\n",
        "          action = new_agent.act(state, eps=0.)\n",
        "          next_state, reward, terminated, truncated, _ = env_eval.step(action)\n",
        "          done = terminated or truncated\n",
        "          episode_reward += reward\n",
        "          state = next_state\n",
        "\n",
        "      episode_rewards.append(episode_reward)\n",
        "\n",
        "  average_reward = sum(episode_rewards) / test_episodes\n",
        "  return average_reward"
      ],
      "metadata": {
        "id": "JdLpXclb5dae"
      },
      "execution_count": null,
      "outputs": []
    },
    {
      "cell_type": "markdown",
      "source": [
        "# Training"
      ],
      "metadata": {
        "id": "VEyTwl3aGWTF"
      }
    },
    {
      "cell_type": "code",
      "execution_count": 118,
      "metadata": {
        "colab": {
          "base_uri": "https://localhost:8080/"
        },
        "id": "6rpzjfY2IG5-",
        "outputId": "6307b651-670d-4c78-b856-31ae67209656"
      },
      "outputs": [
        {
          "output_type": "stream",
          "name": "stdout",
          "text": [
            "seed = 0\n"
          ]
        },
        {
          "output_type": "stream",
          "name": "stderr",
          "text": [
            "Network=QNetwork_1: 100%|██████████| 1000/1000 [02:05<00:00,  7.94episode/s, ep_reward=0, loss=0.00622]\n",
            "Network=QNetwork_2: 100%|██████████| 1000/1000 [02:50<00:00,  5.87episode/s, ep_reward=10, loss=0.00456]\n",
            "Network=QNetwork_3: 100%|██████████| 1000/1000 [04:38<00:00,  3.59episode/s, ep_reward=-91, loss=0.0127]\n",
            "Network=QNetwork_4: 100%|██████████| 1000/1000 [06:11<00:00,  2.69episode/s, ep_reward=-610, loss=0.0116]\n"
          ]
        },
        {
          "output_type": "stream",
          "name": "stdout",
          "text": [
            "seed = 1\n"
          ]
        },
        {
          "output_type": "stream",
          "name": "stderr",
          "text": [
            "Network=QNetwork_1: 100%|██████████| 1000/1000 [02:45<00:00,  6.03episode/s, ep_reward=-91, loss=0.0148]\n",
            "Network=QNetwork_2: 100%|██████████| 1000/1000 [01:57<00:00,  8.54episode/s, ep_reward=0, loss=0.00051]\n",
            "Network=QNetwork_3: 100%|██████████| 1000/1000 [06:08<00:00,  2.71episode/s, ep_reward=-420, loss=0.142]\n",
            "Network=QNetwork_4: 100%|██████████| 1000/1000 [06:30<00:00,  2.56episode/s, ep_reward=-409, loss=0.241]\n"
          ]
        },
        {
          "output_type": "stream",
          "name": "stdout",
          "text": [
            "seed = 2\n"
          ]
        },
        {
          "output_type": "stream",
          "name": "stderr",
          "text": [
            "Network=QNetwork_1: 100%|██████████| 1000/1000 [02:02<00:00,  8.17episode/s, ep_reward=10, loss=0.00757]\n",
            "Network=QNetwork_2: 100%|██████████| 1000/1000 [01:51<00:00,  8.97episode/s, ep_reward=-192, loss=0.00198]\n",
            "Network=QNetwork_3: 100%|██████████| 1000/1000 [06:05<00:00,  2.74episode/s, ep_reward=-212, loss=0.00299]\n",
            "Network=QNetwork_4: 100%|██████████| 1000/1000 [07:06<00:00,  2.34episode/s, ep_reward=-630, loss=8.22e+3]\n"
          ]
        },
        {
          "output_type": "stream",
          "name": "stdout",
          "text": [
            "seed = 3\n"
          ]
        },
        {
          "output_type": "stream",
          "name": "stderr",
          "text": [
            "Network=QNetwork_1: 100%|██████████| 1000/1000 [03:00<00:00,  5.55episode/s, ep_reward=-91, loss=0.00416]\n",
            "Network=QNetwork_2: 100%|██████████| 1000/1000 [02:44<00:00,  6.07episode/s, ep_reward=-192, loss=0.00243]\n",
            "Network=QNetwork_3: 100%|██████████| 1000/1000 [02:23<00:00,  6.98episode/s, ep_reward=-293, loss=0.00958]\n",
            "Network=QNetwork_4: 100%|██████████| 1000/1000 [05:44<00:00,  2.90episode/s, ep_reward=-230, loss=0.144]\n"
          ]
        },
        {
          "output_type": "stream",
          "name": "stdout",
          "text": [
            "seed = 4\n"
          ]
        },
        {
          "output_type": "stream",
          "name": "stderr",
          "text": [
            "Network=QNetwork_1: 100%|██████████| 1000/1000 [02:45<00:00,  6.05episode/s, ep_reward=0, loss=0.00191]\n",
            "Network=QNetwork_2: 100%|██████████| 1000/1000 [05:56<00:00,  2.81episode/s, ep_reward=-284, loss=0.000832]\n",
            "Network=QNetwork_3: 100%|██████████| 1000/1000 [03:41<00:00,  4.51episode/s, ep_reward=10, loss=0.00782]\n",
            "Network=QNetwork_4: 100%|██████████| 1000/1000 [06:26<00:00,  2.59episode/s, ep_reward=-240, loss=0.0922]\n"
          ]
        }
      ],
      "source": [
        "for seed in range(5):\n",
        "  print(f\"seed = {seed}\")\n",
        "  for i, network in enumerate(networks):\n",
        "\n",
        "    if i == 0:\n",
        "      continue\n",
        "\n",
        "    new_agent = DQNAgent(input_dim, output_dim, seed=seed, lr = lr, network=network)\n",
        "\n",
        "    # Training\n",
        "\n",
        "    losses = []\n",
        "    rewards = []\n",
        "\n",
        "    ep_mean_reward = 0\n",
        "    ep_mean_reward_fixed = 0\n",
        "    ep_mean_loss = 0\n",
        "    average_reward = 0\n",
        "\n",
        "    pbar = trange(num_episodes, position=0, leave=True, desc=f\"{netwrok_names[i]}\", unit=\"episode\")\n",
        "\n",
        "    for episode in pbar:\n",
        "        # Reset the environment\n",
        "        state, _ = env.reset()\n",
        "        epsilon = max(epsilon_end, epsilon_start * (epsilon_decay_rate ** episode))\n",
        "\n",
        "        ep_reward = 0\n",
        "        ep_loss = 0\n",
        "        # Run one episode\n",
        "        for step in range(max_steps_per_episode_train):\n",
        "            # Choose and perform an action\n",
        "            action = new_agent.act(state, epsilon)\n",
        "            next_state, reward, terminated, truncated, _ = env.step(action)\n",
        "            done = terminated or truncated\n",
        "            #if reward > 0:\n",
        "            #  print(state, action, reward)\n",
        "            #print(reward)\n",
        "            buffer.append((state, action, reward, next_state, done))\n",
        "\n",
        "            #print(len(buffer), batch_size)\n",
        "            if len(buffer) >= batch_size:\n",
        "                batch = random.sample(buffer, batch_size)\n",
        "                # Update the agent's knowledge\n",
        "                loss = new_agent.learn(batch, gamma)\n",
        "                ep_loss += loss\n",
        "\n",
        "            state = next_state\n",
        "\n",
        "            ep_reward += reward\n",
        "            # Check if the episode has ended\n",
        "            if done:\n",
        "                break\n",
        "\n",
        "        pbar.set_postfix(loss=ep_loss.item(), ep_reward=ep_mean_reward_fixed)\n",
        "\n",
        "        losses.append(ep_loss)\n",
        "        rewards.append(ep_reward)\n",
        "        ep_mean_reward += ep_reward\n",
        "        if (episode + 1) % update_frequency == 0:\n",
        "          ep_mean_reward_fixed = ep_mean_reward\n",
        "          average_reward = eval(new_agent)\n",
        "          ep_mean_reward = 0\n",
        "\n",
        "    data[network][\"eval_reward\"].append(average_reward)\n",
        "    data[network][\"loss\"].append(losses)\n",
        "    data[network][\"train_reward\"].append(rewards)"
      ]
    },
    {
      "cell_type": "markdown",
      "source": [
        "# Visualization"
      ],
      "metadata": {
        "id": "ptjV-i4LGaj4"
      }
    },
    {
      "cell_type": "code",
      "execution_count": 49,
      "metadata": {
        "id": "l-tXrSnDIG5_",
        "colab": {
          "base_uri": "https://localhost:8080/",
          "height": 502
        },
        "outputId": "08b8c831-8e6c-4b04-ebbb-c29a9ae3bfbb"
      },
      "outputs": [
        {
          "output_type": "stream",
          "name": "stderr",
          "text": [
            "/usr/local/lib/python3.10/dist-packages/ipykernel/ipkernel.py:283: DeprecationWarning: `should_run_async` will not call `transform_cell` automatically in the future. Please pass the result to `transformed_cell` argument and any exception that happen during thetransform in `preprocessing_exc_tuple` in IPython 7.17 and above.\n",
            "  and should_run_async(code)\n"
          ]
        },
        {
          "output_type": "execute_result",
          "data": {
            "text/plain": [
              "[<matplotlib.lines.Line2D at 0x7f0208bc8850>]"
            ]
          },
          "metadata": {},
          "execution_count": 49
        },
        {
          "output_type": "display_data",
          "data": {
            "text/plain": [
              "<Figure size 640x480 with 1 Axes>"
            ],
            "image/png": "[encoded data removed]"
          },
          "metadata": {}
        }
      ],
      "source": [
        "for i, network in enumerate(networks):\n",
        "    if i == 0:\n",
        "        continue\n",
        "\n",
        "    fig, ax = plt.subplots(ncols=2)\n",
        "\n",
        "    losses = np.array(data[network][\"loss\"])\n",
        "    rewards = np.array(data[network][\"train_reward\"])\n",
        "    eval_rewards = data[network][\"eval_reward\"]\n",
        "\n",
        "    min_loss = losses.min(axis=1)\n",
        "    max_loss = losses.max(axis=1)\n",
        "    mean_loss = losses.mean(axis=1)\n",
        "\n",
        "    min_losses_cpu = [min_loss.cpu().detach().numpy() for loss in min_loss]\n",
        "    max_losses_cpu = [max_loss.cpu().detach().numpy() for loss in max_loss]\n",
        "    mean_losses_cpu = [mean_loss.cpu().detach().numpy() for loss in mean_loss]\n",
        "\n",
        "    x = np.array(list(range(len(losses))))\n",
        "    ax[0].plot(x, mean_losses_cpu, '-')\n",
        "    ax[0].fill_between(x, min_losses_cpu, max_losses_cpu, alpha=0.2)\n",
        "\n",
        "    min_reward = eval_rewards.min(axis=1)\n",
        "    max_reward = eval_rewards.max(axis=1)\n",
        "    mean_reward = eval_rewards.mean(axis=1)\n",
        "\n",
        "    min_reward_cpu = [min_reward.cpu().detach().numpy() for reward in min_reward]\n",
        "    max_reward_cpu = [max_reward.cpu().detach().numpy() for reward in max_reward]\n",
        "    mean_reward_cpu = [mean_reward.cpu().detach().numpy() for reward in mean_reward]\n",
        "\n",
        "    x = np.array(list(range(len(eval_rewards))))\n",
        "    ax[1].plot(x, mean_reward_cpu, '-')\n",
        "    ax[1].fill_between(x, min_reward_cpu, max_reward_cpu, alpha=0.2)\n",
        "\n",
        "    ax[0].set_title(f\"{netwrok_names[i]} loss\")\n",
        "    ax[1].set_title(f\"{netwrok_names[i]} reward\")\n",
        "\n",
        "    ax[0].set_xlabel(\"Episode\")\n",
        "    ax[1].set_xlabel(\"Episode\")\n",
        "    ax[0].set_ylabel(\"Loss\")\n",
        "    ax[1].set_ylabel(\"Reward\")\n",
        "    plt.tight_layout()\n",
        "    plt.show()"
      ]
    }
  ],
  "metadata": {
    "kernelspec": {
      "display_name": "Python 3",
      "name": "python3"
    },
    "language_info": {
      "codemirror_mode": {
        "name": "ipython",
        "version": 3
      },
      "file_extension": ".py",
      "mimetype": "text/x-python",
      "name": "python",
      "nbconvert_exporter": "python",
      "pygments_lexer": "ipython3",
      "version": "3.10.6"
    },
    "orig_nbformat": 4,
    "colab": {
      "provenance": [],
      "collapsed_sections": [
        "W3Gq3o_bGy10",
        "6LaO9SJLFo7p",
        "xH3J2_azF2Xh",
        "Wq2snh0iFuqi",
        "WxOD0rGTF_Ee"
      ],
      "gpuType": "T4"
    },
    "accelerator": "GPU"
  },
  "nbformat": 4,
  "nbformat_minor": 0
}