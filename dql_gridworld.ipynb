{
  "cells": [
    {
      "cell_type": "code",
      "source": [
        "# Restart the session after running this cell (Run it once!)\n",
        "!git clone https://github.com/sparisi/gym_gridworlds\n",
        "!pip install -e ./gym_gridworlds"
      ],
      "metadata": {
        "colab": {
          "base_uri": "https://localhost:8080/"
        },
        "id": "hlY9Ig2pE5qj",
        "outputId": "c950548c-4d7d-46b5-bec2-b5d785b85ee3"
      },
      "execution_count": null,
      "outputs": [
        {
          "output_type": "stream",
          "name": "stdout",
          "text": [
            "Cloning into 'gym_gridworlds'...\n",
            "remote: Enumerating objects: 166, done.\u001b[K\n",
            "remote: Counting objects: 100% (27/27), done.\u001b[K\n",
            "remote: Compressing objects: 100% (10/10), done.\u001b[K\n",
            "remote: Total 166 (delta 22), reused 17 (delta 17), pack-reused 139 (from 1)\u001b[K\n",
            "Receiving objects: 100% (166/166), 68.22 KiB | 554.00 KiB/s, done.\n",
            "Resolving deltas: 100% (86/86), done.\n",
            "Obtaining file:///content/gym_gridworlds\n",
            "  Preparing metadata (setup.py) ... \u001b[?25l\u001b[?25hdone\n",
            "Collecting gymnasium (from Gym-Gridworlds==1.0)\n",
            "  Downloading gymnasium-1.0.0-py3-none-any.whl.metadata (9.5 kB)\n",
            "Requirement already satisfied: pygame in /usr/local/lib/python3.10/dist-packages (from Gym-Gridworlds==1.0) (2.6.1)\n",
            "Requirement already satisfied: numpy>=1.21.0 in /usr/local/lib/python3.10/dist-packages (from gymnasium->Gym-Gridworlds==1.0) (1.26.4)\n",
            "Requirement already satisfied: cloudpickle>=1.2.0 in /usr/local/lib/python3.10/dist-packages (from gymnasium->Gym-Gridworlds==1.0) (3.1.0)\n",
            "Requirement already satisfied: typing-extensions>=4.3.0 in /usr/local/lib/python3.10/dist-packages (from gymnasium->Gym-Gridworlds==1.0) (4.12.2)\n",
            "Collecting farama-notifications>=0.0.1 (from gymnasium->Gym-Gridworlds==1.0)\n",
            "  Downloading Farama_Notifications-0.0.4-py3-none-any.whl.metadata (558 bytes)\n",
            "Downloading gymnasium-1.0.0-py3-none-any.whl (958 kB)\n",
            "\u001b[2K   \u001b[90m━━━━━━━━━━━━━━━━━━━━━━━━━━━━━━━━━━━━━━━━\u001b[0m \u001b[32m958.1/958.1 kB\u001b[0m \u001b[31m17.7 MB/s\u001b[0m eta \u001b[36m0:00:00\u001b[0m\n",
            "\u001b[?25hDownloading Farama_Notifications-0.0.4-py3-none-any.whl (2.5 kB)\n",
            "Installing collected packages: farama-notifications, gymnasium, Gym-Gridworlds\n",
            "  Running setup.py develop for Gym-Gridworlds\n",
            "Successfully installed Gym-Gridworlds-1.0 farama-notifications-0.0.4 gymnasium-1.0.0\n"
          ]
        }
      ]
    },
    {
      "cell_type": "markdown",
      "source": [
        "# Google Drive"
      ],
      "metadata": {
        "id": "6LjFZV-Xpl6m"
      }
    },
    {
      "cell_type": "code",
      "source": [
        "from google.colab import drive\n",
        "drive.mount('/content/drive')"
      ],
      "metadata": {
        "colab": {
          "base_uri": "https://localhost:8080/"
        },
        "id": "Wlo4uI-wpouc",
        "outputId": "a13345e4-3840-4521-eff8-e0635cb40daf"
      },
      "execution_count": null,
      "outputs": [
        {
          "output_type": "stream",
          "name": "stdout",
          "text": [
            "Mounted at /content/drive\n"
          ]
        }
      ]
    },
    {
      "cell_type": "markdown",
      "source": [
        "# Register Envoronments in Gym"
      ],
      "metadata": {
        "id": "W3Gq3o_bGy10"
      }
    },
    {
      "cell_type": "code",
      "source": [
        "from gymnasium.envs.registration import register\n",
        "\n",
        "register(\n",
        "    id=\"Gym-Gridworlds/Straight-20-v0\",\n",
        "    entry_point=\"gym_gridworlds.gridworld:Gridworld\",\n",
        "    max_episode_steps=200,\n",
        "    kwargs={\n",
        "        \"grid\": \"20_straight\",\n",
        "    },\n",
        ")\n",
        "\n",
        "register(\n",
        "    id=\"Gym-Gridworlds/Empty-2x2-v0\",\n",
        "    entry_point=\"gym_gridworlds.gridworld:GridworldRandomStart\",\n",
        "    max_episode_steps=10,\n",
        "    kwargs={\n",
        "        \"grid\": \"2x2_empty\",\n",
        "    },\n",
        ")\n",
        "\n",
        "register(\n",
        "    id=\"Gym-Gridworlds/Empty-3x3-v0\",\n",
        "    entry_point=\"gym_gridworlds.gridworld:GridworldRandomStart\",\n",
        "    max_episode_steps=50,\n",
        "    kwargs={\n",
        "        \"grid\": \"3x3_empty\",\n",
        "    },\n",
        ")\n",
        "\n",
        "register(\n",
        "    id=\"Gym-Gridworlds/Empty-Loop-3x3-v0\",\n",
        "    entry_point=\"gym_gridworlds.gridworld:Gridworld\",\n",
        "    max_episode_steps=50,\n",
        "    kwargs={\n",
        "        \"grid\": \"3x3_empty_loop\",\n",
        "    },\n",
        ")\n",
        "\n",
        "register(\n",
        "    id=\"Gym-Gridworlds/Empty-10x10-v0\",\n",
        "    entry_point=\"gym_gridworlds.gridworld:Gridworld\",\n",
        "    max_episode_steps=100,\n",
        "    kwargs={\n",
        "        \"grid\": \"10x10_empty\",\n",
        "    },\n",
        ")\n",
        "\n",
        "register(\n",
        "    id=\"Gym-Gridworlds/Empty-Distract-6x6-v0\",\n",
        "    entry_point=\"gym_gridworlds.gridworld:Gridworld\",\n",
        "    max_episode_steps=50,\n",
        "    kwargs={\n",
        "        \"grid\": \"6x6_distract\",\n",
        "    },\n",
        ")\n",
        "\n",
        "register(\n",
        "    id=\"Gym-Gridworlds/Penalty-3x3-v0\",\n",
        "    entry_point=\"gym_gridworlds.gridworld:Gridworld\",\n",
        "    max_episode_steps=50,\n",
        "    kwargs={\n",
        "        \"grid\": \"3x3_penalty\",\n",
        "    },\n",
        ")\n",
        "\n",
        "register(\n",
        "    id=\"Gym-Gridworlds/Quicksand-4x4-v0\",\n",
        "    entry_point=\"gym_gridworlds.gridworld:Gridworld\",\n",
        "    max_episode_steps=50,\n",
        "    kwargs={\n",
        "        \"grid\": \"4x4_quicksand\",\n",
        "    },\n",
        ")\n",
        "\n",
        "register(\n",
        "    id=\"Gym-Gridworlds/Quicksand-Distract-4x4-v0\",\n",
        "    entry_point=\"gym_gridworlds.gridworld:Gridworld\",\n",
        "    max_episode_steps=50,\n",
        "    kwargs={\n",
        "        \"grid\": \"4x4_quicksand_distract\",\n",
        "    },\n",
        ")\n",
        "\n",
        "register(\n",
        "    id=\"Gym-Gridworlds/TwoRoom-Quicksand-3x5-v0\",\n",
        "    entry_point=\"gym_gridworlds.gridworld:Gridworld\",\n",
        "    max_episode_steps=50,\n",
        "    kwargs={\n",
        "        \"grid\": \"3x5_two_room_quicksand\",\n",
        "    },\n",
        ")\n",
        "\n",
        "register(\n",
        "    id=\"Gym-Gridworlds/Corridor-3x4-v0\",\n",
        "    entry_point=\"gym_gridworlds.gridworld:Gridworld\",\n",
        "    max_episode_steps=50,\n",
        "    kwargs={\n",
        "        \"grid\": \"3x4_corridor\",\n",
        "    },\n",
        ")\n",
        "register(\n",
        "    id=\"Gym-Gridworlds/Full-4x5-v0\",\n",
        "    entry_point=\"gym_gridworlds.gridworld:Gridworld\",\n",
        "    max_episode_steps=50,\n",
        "    kwargs={\n",
        "        \"grid\": \"4x5_full\",\n",
        "    },\n",
        ")\n",
        "\n",
        "register(\n",
        "    id=\"Gym-Gridworlds/TwoRoom-Distract-Middle-2x11-v0\",\n",
        "    entry_point=\"gym_gridworlds.gridworld:GridworldMiddleStart\",\n",
        "    max_episode_steps=200,\n",
        "    kwargs={\n",
        "        \"grid\": \"2x11_two_room_distract\",\n",
        "    },\n",
        ")\n",
        "\n",
        "register(\n",
        "    id=\"Gym-Gridworlds/Barrier-5x5-v0\",\n",
        "    entry_point=\"gym_gridworlds.gridworld:Gridworld\",\n",
        "    max_episode_steps=50,\n",
        "    kwargs={\n",
        "        \"grid\": \"5x5_barrier\",\n",
        "    },\n",
        ")\n",
        "\n",
        "register(\n",
        "    id=\"Gym-Gridworlds/RiverSwim-6-v0\",\n",
        "    entry_point=\"gym_gridworlds.gridworld:RiverSwim\",\n",
        "    max_episode_steps=200,\n",
        "    kwargs={\n",
        "        \"grid\": \"river_swim_6\",\n",
        "    },\n",
        ")\n",
        "\n",
        "register(\n",
        "    id=\"Gym-Gridworlds/CliffWalk-4x12-v0\",\n",
        "    entry_point=\"gym_gridworlds.gridworld:Gridworld\",\n",
        "    max_episode_steps=200,\n",
        "    kwargs={\n",
        "        \"grid\": \"4x12_cliffwalk\",\n",
        "    },\n",
        ")\n",
        "\n",
        "register(\n",
        "    id=\"Gym-Gridworlds/DangerMaze-6x6-v0\",\n",
        "    entry_point=\"gym_gridworlds.gridworld:Gridworld\",\n",
        "    max_episode_steps=200,\n",
        "    kwargs={\n",
        "        \"grid\": \"6x6_danger_maze\",\n",
        "    },\n",
        ")"
      ],
      "metadata": {
        "id": "JngHQiknE_hC"
      },
      "execution_count": null,
      "outputs": []
    },
    {
      "cell_type": "markdown",
      "source": [
        "# Import Libraries"
      ],
      "metadata": {
        "id": "ArzuUc8WFVOs"
      }
    },
    {
      "cell_type": "code",
      "source": [
        "import numpy as np\n",
        "import torch\n",
        "import torch.nn as nn\n",
        "torch._dynamo.config.suppress_errors = True\n",
        "import torch.optim as optim\n",
        "import torch.nn.functional as F\n",
        "import random\n",
        "from collections import namedtuple, deque\n",
        "import gym\n",
        "import gymnasium\n",
        "from tqdm import trange\n",
        "import matplotlib.pyplot as plt\n",
        "import json"
      ],
      "metadata": {
        "id": "HaIz8uDLTyZY"
      },
      "execution_count": null,
      "outputs": []
    },
    {
      "cell_type": "code",
      "source": [
        "device = torch.device(\"cuda\" if torch.cuda.is_available() else \"cpu\")\n",
        "print(device)"
      ],
      "metadata": {
        "colab": {
          "base_uri": "https://localhost:8080/"
        },
        "id": "WS8cWkmWGi4K",
        "outputId": "6a69f701-e72e-4549-df57-de058c054b09"
      },
      "execution_count": null,
      "outputs": [
        {
          "output_type": "stream",
          "name": "stdout",
          "text": [
            "cuda\n"
          ]
        },
        {
          "output_type": "stream",
          "name": "stderr",
          "text": [
            "/usr/local/lib/python3.10/dist-packages/ipykernel/ipkernel.py:283: DeprecationWarning: `should_run_async` will not call `transform_cell` automatically in the future. Please pass the result to `transformed_cell` argument and any exception that happen during thetransform in `preprocessing_exc_tuple` in IPython 7.17 and above.\n",
            "  and should_run_async(code)\n"
          ]
        }
      ]
    },
    {
      "cell_type": "code",
      "source": [
        "import warnings\n",
        "warnings.filterwarnings('ignore')"
      ],
      "metadata": {
        "id": "Kbdag6O4WFIj"
      },
      "execution_count": null,
      "outputs": []
    },
    {
      "cell_type": "markdown",
      "source": [
        "# Feature Functions"
      ],
      "metadata": {
        "id": "joqj9DFyFkcq"
      }
    },
    {
      "cell_type": "code",
      "source": [
        "def rbf_features(\n",
        "    state,\n",
        "    centers,\n",
        "    sigmas: float,\n",
        "):\n",
        "    state = torch.tensor(state, device=device)\n",
        "    centers = torch.tensor(centers, device=device)\n",
        "    D = centers.shape[0]\n",
        "    N = state.shape[0]\n",
        "    new_state = state[:, None, :].repeat(1, D, 1)\n",
        "    new_center = centers.repeat(N, 1, 1)\n",
        "    return torch.exp(-torch.linalg.norm(new_state - new_center, 2, axis=2)**2 / sigmas**2 / 2)\n",
        "\n",
        "\n",
        "def tile_features(\n",
        "    state: np.array,  # (N, S)\n",
        "    centers: np.array,  # (D, S)\n",
        "    widths: float,\n",
        "    offsets: list = [0],  # list of tuples of length S\n",
        ") -> np.array:  # (N, D)\n",
        "\n",
        "    D = np.shape(centers)[0]\n",
        "    N = np.shape(state)[0]\n",
        "    new_state = np.repeat(state[:, None, :], D, axis=1)\n",
        "    output = np.zeros((N, D))\n",
        "    for offset in offsets:\n",
        "        shifted_center = centers + offset\n",
        "        new_center = np.repeat(shifted_center[None, :, :], N, axis=0)\n",
        "        output += np.array(np.linalg.norm(new_state - new_center, np.inf, axis=2) < widths, dtype=np.float32)\n",
        "\n",
        "    return output / len(offsets)\n",
        "\n",
        "\n",
        "def coarse_features(\n",
        "    state: np.array,  # (N, S)\n",
        "    centers: np.array,  # (D, S)\n",
        "    widths: float,\n",
        "    offsets: list = [0],  # list of tuples of length S\n",
        ") -> np.array:  # (N, D)\n",
        "\n",
        "    D = np.shape(centers)[0]\n",
        "    N = np.shape(state)[0]\n",
        "    new_state = np.repeat(state[:, None, :], D, axis=1)\n",
        "    output = np.zeros((N, D))\n",
        "    for offset in offsets:\n",
        "        shifted_center = centers + offset\n",
        "        new_center = np.repeat(shifted_center[None, :, :], N, axis=0)\n",
        "        output += np.array(np.linalg.norm(new_state - new_center, 2, axis=2) < widths, dtype=np.float32)\n",
        "\n",
        "    return output / len(offsets)\n",
        "\n",
        "def aggregation_features(state, centers):\n",
        "    state = torch.tensor(state, device=device)\n",
        "    centers = torch.tensor(centers, device=device)\n",
        "\n",
        "    distance = torch.sum((state[:, None, :] - centers[None, :, :])**2, dim=-1)\n",
        "    return (distance == distance.min(-1, keepdims=True).values) * 1.0  # make it float\n"
      ],
      "metadata": {
        "id": "MHAAP-0zM7YS"
      },
      "execution_count": null,
      "outputs": []
    },
    {
      "cell_type": "code",
      "source": [
        "s = np.array([[1, 2]])\n",
        "c = np.array([[0, 0], [1, 1], [4, 4], [6, 6]])\n",
        "aggregation_features(s, c)"
      ],
      "metadata": {
        "colab": {
          "base_uri": "https://localhost:8080/"
        },
        "id": "wGcb4NywalLn",
        "outputId": "175c67ae-2281-4bc0-e397-44db55454076"
      },
      "execution_count": null,
      "outputs": [
        {
          "output_type": "execute_result",
          "data": {
            "text/plain": [
              "tensor([[0., 1., 0., 0.]], device='cuda:0')"
            ]
          },
          "metadata": {},
          "execution_count": 6
        }
      ]
    },
    {
      "cell_type": "markdown",
      "source": [
        "# Network"
      ],
      "metadata": {
        "id": "6LaO9SJLFo7p"
      }
    },
    {
      "cell_type": "code",
      "source": [
        "# Define the neural network model\n",
        "class QNetwork(nn.Module):\n",
        "    def __init__(self, state_size, action_size, seed, depth, fc_unit, final_layer_unit):\n",
        "        super().__init__()\n",
        "        self.seed = torch.manual_seed(seed)\n",
        "        self.feature_size = self.feature_extract_init(state_size, action_size)\n",
        "\n",
        "        self.layers = nn.ModuleList()\n",
        "        for i in range(depth):\n",
        "            if depth == 1:\n",
        "                self.layers.append(nn.Linear(self.feature_size, final_layer_unit))\n",
        "            elif i == 0:\n",
        "                self.layers.append(nn.Linear(self.feature_size, fc_unit))\n",
        "            elif i == depth - 1:\n",
        "                self.layers.append(nn.Linear(fc_unit, final_layer_unit))\n",
        "            else:\n",
        "                self.layers.append(nn.Linear(fc_unit, fc_unit))\n",
        "\n",
        "        for layer in self.layers:\n",
        "          self.init_weights(layer)\n",
        "\n",
        "        if depth > 0:\n",
        "          self.final_layer = nn.Linear(final_layer_unit, action_size)\n",
        "        else:\n",
        "          self.final_layer = nn.Linear(self.feature_size, action_size)\n",
        "\n",
        "        #nn.init.zeros_(self.final_layer.weight)\n",
        "        #nn.init.zeros_(self.final_layer.bias)\n",
        "        self.init_weights(self.final_layer)\n",
        "\n",
        "    def init_weights(self, layer):\n",
        "        nn.init.xavier_normal(layer.weight)\n",
        "        self.to(device)\n",
        "\n",
        "    def feature_extract_init(self, state_size, action_size):\n",
        "        n_centers = [10, 10]\n",
        "        centers = np.array(\n",
        "          np.meshgrid(*[\n",
        "              np.linspace(env.observation_space.low[i], env.observation_space.high[i], n_centers[i])\n",
        "              for i in range(env.observation_space.shape[0])\n",
        "          ])\n",
        "        ).reshape(env.observation_space.shape[0], -1).T\n",
        "        centers = torch.tensor(centers).float().to(device)\n",
        "        self.feature_name, self.feature_extract = \"Aggregate\", lambda state : aggregation_features(state.reshape(-1, state_size), centers)\n",
        "        #self.feature_name, self.feature_extract = \"RBF\", lambda state : rbf_features(state.reshape(-1, state_size), centers, 0.2)\n",
        "        return self.feature_extract(env.reset()[0]).shape[1]\n",
        "\n",
        "\n",
        "    def forward(self, state):\n",
        "        x = self.feature_extract(state)\n",
        "        for layer in self.layers:\n",
        "            x = layer(x)\n",
        "        return self.final_layer(x)\n"
      ],
      "metadata": {
        "id": "k6kdTlQtHlmF"
      },
      "execution_count": null,
      "outputs": []
    },
    {
      "cell_type": "markdown",
      "source": [
        "# ReplayBuffer"
      ],
      "metadata": {
        "id": "xH3J2_azF2Xh"
      }
    },
    {
      "cell_type": "code",
      "source": [
        "class ReplayBuffer:\n",
        "    def __init__(self, action_size, buffer_size, batch_size, seed):\n",
        "        self.action_size = action_size\n",
        "        self.memory = deque(maxlen=buffer_size)\n",
        "        self.batch_size = batch_size\n",
        "        self.experience = namedtuple(\"Experience\", field_names=[\"state\", \"action\", \"reward\", \"next_state\", \"done\"])\n",
        "        self.seed = random.seed(seed)\n",
        "\n",
        "    def add(self, state, action, reward, next_state, done):\n",
        "        e = self.experience(state, action, reward, next_state, done)\n",
        "        self.memory.append(e)\n",
        "\n",
        "    def sample(self):\n",
        "        experiences = random.sample(self.memory, k=self.batch_size)\n",
        "\n",
        "        states = torch.from_numpy(np.vstack([e.state for e in experiences if e is not None])).float().to(device)\n",
        "        actions = torch.from_numpy(np.vstack([e.action for e in experiences if e is not None])).long().to(device)\n",
        "        rewards = torch.from_numpy(np.vstack([e.reward for e in experiences if e is not None])).float().to(device)\n",
        "        next_states = torch.from_numpy(np.vstack([e.next_state for e in experiences if e is not None])).float().to(device)\n",
        "        dones = torch.from_numpy(np.vstack([e.done for e in experiences if e is not None]).astype(np.uint8)).float().to(device)\n",
        "\n",
        "        return (states, actions, rewards, next_states, dones)\n",
        "\n",
        "    def __len__(self):\n",
        "        return len(self.memory)"
      ],
      "metadata": {
        "id": "WUEjnATTF0PM"
      },
      "execution_count": null,
      "outputs": []
    },
    {
      "cell_type": "markdown",
      "source": [
        "# DQN"
      ],
      "metadata": {
        "id": "Wq2snh0iFuqi"
      }
    },
    {
      "cell_type": "code",
      "execution_count": null,
      "metadata": {
        "id": "SMqPt_ruIG59"
      },
      "outputs": [],
      "source": [
        "# Define the DQN agent class\n",
        "class DQNAgent:\n",
        "    # Initialize the DQN agent\n",
        "    def __init__(self, state_size, action_size, seed, lr, network):\n",
        "        self.state_size = state_size\n",
        "        self.action_size = action_size\n",
        "        self.seed = random.seed(seed)\n",
        "\n",
        "        self.qnetwork_local = QNetwork(state_size, action_size, seed, network[\"depth\"], network[\"fc_units\"], network[\"final_fc_units\"]).to(device)\n",
        "        self.qnetwork_target = QNetwork(state_size, action_size, seed, network[\"depth\"], network[\"fc_units\"], network[\"final_fc_units\"]).to(device)\n",
        "        self.optimizer = optim.Adam(self.qnetwork_local.parameters(), lr)\n",
        "\n",
        "        self.memory = ReplayBuffer(action_size, buffer_size=int(1e5), batch_size=64, seed=seed)\n",
        "        self.t_step = 0\n",
        "\n",
        "    def step(self, state, action, reward, next_state, done):\n",
        "        self.memory.add(state, action, reward, next_state, done)\n",
        "\n",
        "        self.t_step = (self.t_step + 1) % 4\n",
        "        if self.t_step == 0:\n",
        "            if len(self.memory) > 64:\n",
        "                experiences = self.memory.sample()\n",
        "                self.learn(experiences, gamma=0.99)\n",
        "\n",
        "    # Choose an action based on the current state\n",
        "    def act(self, state, eps=0.):\n",
        "        state_tensor = torch.from_numpy(state).float().unsqueeze(0).to(device)\n",
        "        self.qnetwork_local.eval()\n",
        "        with torch.no_grad():\n",
        "            action_values = self.qnetwork_local(state_tensor)\n",
        "        self.qnetwork_local.train()\n",
        "\n",
        "        if np.random.random() > eps:\n",
        "            return action_values.argmax(dim=1).item()\n",
        "        else:\n",
        "            return np.random.randint(self.action_size)\n",
        "\n",
        "    # Learn from batch of experiences\n",
        "    def learn(self, experiences, gamma):\n",
        "        states, actions, rewards, next_states, dones = zip(*experiences)\n",
        "        states = torch.from_numpy(np.vstack(states)).float().to(device)\n",
        "        actions = torch.from_numpy(np.vstack(actions)).long().to(device)\n",
        "        rewards = torch.from_numpy(np.vstack(rewards)).float().to(device)\n",
        "        next_states = torch.from_numpy(np.vstack(next_states)).float().to(device)\n",
        "        dones = torch.from_numpy(np.vstack(dones).astype(np.uint8)).float().to(device)\n",
        "\n",
        "        Q_targets_next = self.qnetwork_target(next_states).detach().max(1)[0].unsqueeze(1)\n",
        "        Q_targets = rewards + (gamma * Q_targets_next * (1 - dones))\n",
        "\n",
        "        Q_expected = self.qnetwork_local(states).gather(1, actions)\n",
        "\n",
        "        loss = F.mse_loss(Q_expected, Q_targets)\n",
        "        self.optimizer.zero_grad()\n",
        "        loss.backward()\n",
        "        self.optimizer.step()\n",
        "\n",
        "        self.soft_update(self.qnetwork_local, self.qnetwork_target, tau=1e-3)\n",
        "\n",
        "        return loss\n",
        "\n",
        "    def soft_update(self, local_model, target_model, tau):\n",
        "        for target_param, local_param in zip(target_model.parameters(), local_model.parameters()):\n",
        "            target_param.data.copy_(tau * local_param.data + (1.0 - tau) * target_param.data)"
      ]
    },
    {
      "cell_type": "markdown",
      "source": [
        "# Hyperparameters"
      ],
      "metadata": {
        "id": "WxOD0rGTF_Ee"
      }
    },
    {
      "cell_type": "code",
      "source": [
        "num_episodes = 4000\n",
        "max_steps_per_episode_train = 100\n",
        "max_steps_per_episode_eval = 25\n",
        "epsilon_start = 1.0\n",
        "epsilon_end = 0.05\n",
        "epsilon_decay_rate = 0.995\n",
        "gamma = 0.9\n",
        "lr = 1e-4\n",
        "buffer_size = 10000\n",
        "batch_size = 512\n",
        "update_frequency = 10\n",
        "test_episodes = 1"
      ],
      "metadata": {
        "id": "ztLArg8OF-4o"
      },
      "execution_count": null,
      "outputs": []
    },
    {
      "cell_type": "markdown",
      "source": [
        "# Setup Environment"
      ],
      "metadata": {
        "id": "fek2zIOuF5Me"
      }
    },
    {
      "cell_type": "code",
      "execution_count": null,
      "metadata": {
        "id": "nSD8eiX5IG5-"
      },
      "outputs": [],
      "source": [
        "env_id = \"Gym-Gridworlds/DangerMaze-6x6-v0\"\n",
        "#env_id = \"Gym-Gridworlds/Empty-10x10-v0\"\n",
        "#env_id = \"Gym-Gridworlds/Penalty-3x3-v0\"\n",
        "env = gymnasium.make(env_id, coordinate_observation=True)\n",
        "env_eval = gymnasium.make(env_id, coordinate_observation=True, max_episode_steps=max_steps_per_episode_eval)"
      ]
    },
    {
      "cell_type": "markdown",
      "source": [
        "# DQN Agent"
      ],
      "metadata": {
        "id": "R_nWh5QTGSUN"
      }
    },
    {
      "cell_type": "code",
      "source": [
        "input_dim = env.observation_space.shape[0]\n",
        "output_dim = env.action_space.n\n",
        "depths = [1, 2, 3, 4, 5, 6, 7, 8, 9, 10, 20, 50]\n",
        "fc_units = [4096, 608, 440, 363, 316, 284, 260, 241, 226, 213, 148, 93]\n",
        "final_units = [4102, 608, 440, 363, 318, 284, 260, 245, 228, 222, 149, 58]\n",
        "networks = [QNetwork(input_dim, output_dim, seed=i, depth=depths[i], fc_unit=fc_units[i], final_layer_unit=final_units[i]) for i in range(len(depths))]\n",
        "netwrok_names = [f\"DQN_{depths[i]:02}_{fc_units[i]}_{sum(p.numel() for p in networks[i].parameters())}\" for i in range(len(depths))]\n",
        "data = {}\n",
        "for network in networks:\n",
        "  data[network] = {\"loss\": [], \"train_reward\": [], \"eval_reward\": []}\n",
        "\n",
        "netwrok_names"
      ],
      "metadata": {
        "id": "H2pzwB0CRL7X",
        "colab": {
          "base_uri": "https://localhost:8080/"
        },
        "outputId": "6c18a13a-4a20-4e5a-d5af-4d46092940d6"
      },
      "execution_count": null,
      "outputs": [
        {
          "output_type": "execute_result",
          "data": {
            "text/plain": [
              "['DQN_01_4096_434817',\n",
              " 'DQN_02_608_434725',\n",
              " 'DQN_03_440_434725',\n",
              " 'DQN_04_363_434879',\n",
              " 'DQN_05_316_434833',\n",
              " 'DQN_06_284_434809',\n",
              " 'DQN_07_260_434725',\n",
              " 'DQN_08_241_434793',\n",
              " 'DQN_09_226_434841',\n",
              " 'DQN_10_213_434792',\n",
              " 'DQN_20_148_434835',\n",
              " 'DQN_50_93_434756']"
            ]
          },
          "metadata": {},
          "execution_count": 38
        }
      ]
    },
    {
      "cell_type": "markdown",
      "source": [
        "# Evaluation"
      ],
      "metadata": {
        "id": "8sYE30Ry5bsn"
      }
    },
    {
      "cell_type": "code",
      "source": [
        "def eval(new_agent):\n",
        "  episode_rewards = []\n",
        "\n",
        "  action_series = []\n",
        "  for episode in range(test_episodes):\n",
        "      state, _ = env_eval.reset()\n",
        "      episode_reward = 0\n",
        "      done = False\n",
        "      while not done:\n",
        "          action = new_agent.act(state, eps=0.)\n",
        "          next_state, reward, terminated, truncated, _ = env_eval.step(action)\n",
        "          action_series.append(action)\n",
        "          done = terminated or truncated\n",
        "          episode_reward += reward\n",
        "          state = next_state\n",
        "\n",
        "      episode_rewards.append(episode_reward)\n",
        "\n",
        "\n",
        "  average_reward = sum(episode_rewards) / test_episodes\n",
        "  return average_reward, action_series"
      ],
      "metadata": {
        "id": "JdLpXclb5dae"
      },
      "execution_count": null,
      "outputs": []
    },
    {
      "cell_type": "code",
      "source": [
        "def eval_Q_plot(new_agent):\n",
        "  s = 6\n",
        "  b = torch.tensor(np.array([[i, j] for j in range(s-1) for i in range(s)])).to(device)\n",
        "  res = new_agent.qnetwork_local(b)\n",
        "  a = np.zeros((5, s-1, s))\n",
        "  for i in range(s-1):\n",
        "    for j in range(s):\n",
        "      a[0, i, j] = res[i * (s-1) + j][0]\n",
        "      a[1, i, j] = res[i * (s-1) + j][1]\n",
        "      a[2, i, j] = res[i * (s-1) + j][2]\n",
        "      a[3, i, j] = res[i * (s-1) + j][3]\n",
        "      a[4, i, j] = res[i * (s-1) + j][4]\n",
        "\n",
        "  fig, ax = plt.subplots(ncols=5)\n",
        "\n",
        "  ax[0].imshow(a[0], cmap='hot', interpolation='nearest')\n",
        "  ax[1].imshow(a[1], cmap='hot', interpolation='nearest')\n",
        "  ax[2].imshow(a[2], cmap='hot', interpolation='nearest')\n",
        "  ax[3].imshow(a[3], cmap='hot', interpolation='nearest')\n",
        "  ax[4].imshow(a[4], cmap='hot', interpolation='nearest')\n",
        "\n",
        "  ax[0].set_title(\"Action 0\")\n",
        "  ax[1].set_title(\"Action 1\")\n",
        "  ax[2].set_title(\"Action 2\")\n",
        "  ax[3].set_title(\"Action 3\")\n",
        "  ax[4].set_title(\"Action 4\")\n",
        "\n",
        "  plt.tight_layout()\n",
        "  plt.show()"
      ],
      "metadata": {
        "id": "OpZqj7q36dge"
      },
      "execution_count": null,
      "outputs": []
    },
    {
      "cell_type": "markdown",
      "source": [
        "# Training"
      ],
      "metadata": {
        "id": "VEyTwl3aGWTF"
      }
    },
    {
      "cell_type": "code",
      "execution_count": null,
      "metadata": {
        "colab": {
          "base_uri": "https://localhost:8080/",
          "height": 263
        },
        "id": "6rpzjfY2IG5-",
        "outputId": "f993bcc6-2e60-4a7f-f120-7261af57dcde"
      },
      "outputs": [
        {
          "output_type": "stream",
          "name": "stdout",
          "text": [
            "seed = 0\n"
          ]
        },
        {
          "output_type": "stream",
          "name": "stderr",
          "text": [
            "DQN_10_213_434792: 100%|██████████| 4000/4000 [16:15<00:00,  4.10episode/s, ep_reward=1, epsilon=0.05, loss=0.000172, train_reward=1]\n"
          ]
        },
        {
          "output_type": "error",
          "ename": "FileNotFoundError",
          "evalue": "[Errno 2] No such file or directory: '/content/drive/MyDrive/Shared Shortcuts/RL_Project/10 - Hamid/Gym-Gridworlds/DangerMaze-6x6-v0_DQN_10_0.json'",
          "traceback": [
            "\u001b[0;31m---------------------------------------------------------------------------\u001b[0m",
            "\u001b[0;31mFileNotFoundError\u001b[0m                         Traceback (most recent call last)",
            "\u001b[0;32m<ipython-input-42-ce5283abd58d>\u001b[0m in \u001b[0;36m<cell line: 1>\u001b[0;34m()\u001b[0m\n\u001b[1;32m     82\u001b[0m \u001b[0;34m\u001b[0m\u001b[0m\n\u001b[1;32m     83\u001b[0m     \u001b[0mto_be_saved\u001b[0m \u001b[0;34m=\u001b[0m \u001b[0;34m{\u001b[0m\u001b[0;34m\"loss\"\u001b[0m\u001b[0;34m:\u001b[0m \u001b[0mnp\u001b[0m\u001b[0;34m.\u001b[0m\u001b[0marray\u001b[0m\u001b[0;34m(\u001b[0m\u001b[0mlosses\u001b[0m\u001b[0;34m)\u001b[0m\u001b[0;34m.\u001b[0m\u001b[0mtolist\u001b[0m\u001b[0;34m(\u001b[0m\u001b[0;34m)\u001b[0m\u001b[0;34m,\u001b[0m \u001b[0;34m\"train_reward\"\u001b[0m\u001b[0;34m:\u001b[0m \u001b[0mrewards\u001b[0m\u001b[0;34m,\u001b[0m \u001b[0;34m\"eval_reward\"\u001b[0m\u001b[0;34m:\u001b[0m \u001b[0maverage_rewards\u001b[0m\u001b[0;34m}\u001b[0m\u001b[0;34m\u001b[0m\u001b[0;34m\u001b[0m\u001b[0m\n\u001b[0;32m---> 84\u001b[0;31m     \u001b[0;32mwith\u001b[0m \u001b[0mopen\u001b[0m\u001b[0;34m(\u001b[0m\u001b[0;34mf\"/content/drive/MyDrive/Shared Shortcuts/RL_Project/{netwrok_names[i][4:6]} - Hamid/{env_id}_{netwrok_names[i][:7]}{seed}.json\"\u001b[0m\u001b[0;34m,\u001b[0m \u001b[0;34m\"w\"\u001b[0m\u001b[0;34m)\u001b[0m \u001b[0;32mas\u001b[0m \u001b[0mf\u001b[0m\u001b[0;34m:\u001b[0m\u001b[0;34m\u001b[0m\u001b[0;34m\u001b[0m\u001b[0m\n\u001b[0m\u001b[1;32m     85\u001b[0m       \u001b[0mjson\u001b[0m\u001b[0;34m.\u001b[0m\u001b[0mdump\u001b[0m\u001b[0;34m(\u001b[0m\u001b[0mto_be_saved\u001b[0m\u001b[0;34m,\u001b[0m \u001b[0mf\u001b[0m\u001b[0;34m)\u001b[0m\u001b[0;34m\u001b[0m\u001b[0;34m\u001b[0m\u001b[0m\n",
            "\u001b[0;31mFileNotFoundError\u001b[0m: [Errno 2] No such file or directory: '/content/drive/MyDrive/Shared Shortcuts/RL_Project/10 - Hamid/Gym-Gridworlds/DangerMaze-6x6-v0_DQN_10_0.json'"
          ]
        }
      ],
      "source": [
        "for seed in range(1):\n",
        "  print(f\"seed = {seed}\")\n",
        "  for i, network in enumerate(networks):\n",
        "\n",
        "    if i not in [9]:\n",
        "      continue\n",
        "\n",
        "    buffer = deque(maxlen=buffer_size)\n",
        "\n",
        "    new_agent = DQNAgent(input_dim, output_dim, seed=seed, lr = lr, network={\"depth\": depths[i], \"fc_units\": fc_units[i], \"final_fc_units\": final_units[i]})\n",
        "\n",
        "    # Training\n",
        "\n",
        "    losses = []\n",
        "    rewards = []\n",
        "    average_rewards = []\n",
        "\n",
        "    ep_mean_reward = 0\n",
        "    ep_mean_reward_fixed = 0\n",
        "    ep_mean_loss = 0\n",
        "    epsilon = epsilon_start\n",
        "\n",
        "    pbar = trange(num_episodes, position=0, leave=True, desc=f\"{netwrok_names[i]}\", unit=\"episode\")\n",
        "\n",
        "    for episode in pbar:\n",
        "        # Reset the environment\n",
        "        state, _ = env.reset()\n",
        "        epsilon = max(epsilon_end, epsilon * epsilon_decay_rate)\n",
        "\n",
        "        ep_reward = 0\n",
        "        ep_loss = 0\n",
        "        # Run one episode\n",
        "        for step in range(max_steps_per_episode_train):\n",
        "            # Choose and perform an action\n",
        "            action = new_agent.act(state, epsilon)\n",
        "            next_state, reward, terminated, truncated, _ = env.step(action)\n",
        "            done = terminated or truncated\n",
        "            #if reward > 0:\n",
        "            #  print(\"REWARDDDDDD!\")\n",
        "            buffer.append((state, action, reward, next_state, done))\n",
        "\n",
        "            #print(len(buffer), batch_size)\n",
        "            if len(buffer) >= batch_size:\n",
        "                batch = random.sample(buffer, batch_size)\n",
        "                # Update the agent's knowledge\n",
        "                loss = new_agent.learn(batch, gamma)\n",
        "                ep_loss += loss\n",
        "\n",
        "            state = next_state\n",
        "\n",
        "            ep_reward += reward\n",
        "            # Check if the episode has ended\n",
        "            if done:\n",
        "                break\n",
        "\n",
        "        rewards.append(ep_reward)\n",
        "        ep_mean_reward += ep_reward\n",
        "        if episode % update_frequency == 0:\n",
        "          ep_mean_reward_fixed = ep_mean_reward\n",
        "          average_reward, action_series = eval(new_agent)\n",
        "          ep_mean_reward = 0\n",
        "\n",
        "        #if episode % (update_frequency * update_frequency) == 0:\n",
        "          #eval_Q_plot(new_agent)\n",
        "          #print(action_series)\n",
        "\n",
        "        average_rewards.append(average_reward)\n",
        "\n",
        "        if type(ep_loss) == int:\n",
        "          record = 0\n",
        "          pbar.set_postfix(loss=ep_loss, ep_reward=average_reward, train_reward=ep_reward, epsilon=epsilon)\n",
        "          losses.append(ep_loss)\n",
        "        else:\n",
        "          record = 1\n",
        "          pbar.set_postfix(loss=ep_loss.item(), ep_reward=average_reward, train_reward=ep_reward, epsilon=epsilon)\n",
        "          losses.append(ep_loss.detach().cpu())\n",
        "\n",
        "    data[network][\"eval_reward\"].append(average_rewards)\n",
        "    if record == 1:\n",
        "      data[network][\"loss\"].append(losses)\n",
        "    data[network][\"train_reward\"].append(rewards)\n",
        "\n",
        "    to_be_saved = {\"loss\": np.array(losses).tolist(), \"train_reward\": rewards, \"eval_reward\": average_rewards}\n",
        "    with open(f\"/content/drive/MyDrive/Shared Shortcuts/RL_Project/{netwrok_names[i][4:6]} - Hamid/{env_id[15:25]}_{netwrok_names[i][:7]}{seed}.json\", \"w\") as f:\n",
        "      json.dump(to_be_saved, f)"
      ]
    },
    {
      "cell_type": "markdown",
      "source": [
        "# Visualization"
      ],
      "metadata": {
        "id": "ptjV-i4LGaj4"
      }
    },
    {
      "cell_type": "code",
      "execution_count": null,
      "metadata": {
        "id": "l-tXrSnDIG5_",
        "colab": {
          "base_uri": "https://localhost:8080/",
          "height": 1000
        },
        "outputId": "937fd56d-d974-4fd9-e2d5-d73c0c1b7e62"
      },
      "outputs": [
        {
          "output_type": "display_data",
          "data": {
            "text/plain": [
              "<Figure size 640x480 with 3 Axes>"
            ],
            "image/png": "[encoded data removed]"
          },
          "metadata": {}
        },
        {
          "output_type": "display_data",
          "data": {
            "text/plain": [
              "<Figure size 640x480 with 3 Axes>"
            ],
            "image/png": "[encoded data removed]"
          },
          "metadata": {}
        },
        {
          "output_type": "display_data",
          "data": {
            "text/plain": [
              "<Figure size 640x480 with 3 Axes>"
            ],
            "image/png": "[encoded data removed]"
          },
          "metadata": {}
        }
      ],
      "source": [
        "for i, network in enumerate(networks):\n",
        "\n",
        "    if i not in [0, 4, 9]:\n",
        "      continue\n",
        "\n",
        "    fig, ax = plt.subplots(ncols=3)\n",
        "\n",
        "    losses = np.array([[l for l in loss] for loss in data[network][\"loss\"]])\n",
        "    rewards = np.array([[l for l in reward] for reward in data[network][\"train_reward\"]])\n",
        "    eval_rewards = np.array([[l for l in reward] for reward in data[network][\"eval_reward\"]])\n",
        "\n",
        "    min_loss = losses.min(axis=0)\n",
        "    max_loss = losses.max(axis=0)\n",
        "    mean_loss = losses.mean(axis=0)\n",
        "\n",
        "    x = np.array(list(range(len(mean_loss))))\n",
        "    ax[0].plot(x, mean_loss, '-')\n",
        "    ax[0].fill_between(x, min_loss, max_loss, alpha=0.7)\n",
        "\n",
        "    min_eval_reward = eval_rewards.min(axis=0)\n",
        "    max_eval_reward = eval_rewards.max(axis=0)\n",
        "    mean_eval_reward = eval_rewards.mean(axis=0)\n",
        "\n",
        "    x = np.array(list(range(len(mean_eval_reward))))\n",
        "    ax[1].plot(x, mean_eval_reward, '-')\n",
        "    ax[1].fill_between(x, min_eval_reward, max_eval_reward, alpha=0.7)\n",
        "\n",
        "    min_reward = rewards.min(axis=0)\n",
        "    max_reward = rewards.max(axis=0)\n",
        "    mean_reward = rewards.mean(axis=0)\n",
        "\n",
        "    x = np.array(list(range(len(mean_reward))))\n",
        "    ax[2].plot(x, mean_reward, '-')\n",
        "    ax[2].fill_between(x, min_reward, max_reward, alpha=0.7)\n",
        "\n",
        "    ax[0].set_title(f\"{netwrok_names[i][:6]} loss\")\n",
        "    ax[1].set_title(f\"{netwrok_names[i][:6]} eval reward\")\n",
        "    ax[2].set_title(f\"{netwrok_names[i][:6]} train reward\")\n",
        "\n",
        "    ax[0].set_xlabel(\"Episode\")\n",
        "    ax[1].set_xlabel(\"Episode\")\n",
        "    ax[2].set_xlabel(\"Episode\")\n",
        "    ax[0].set_ylabel(\"Loss\")\n",
        "    ax[1].set_ylabel(\"Eval Reward\")\n",
        "    ax[2].set_ylabel(\"Train Reward\")\n",
        "    plt.tight_layout()\n",
        "    plt.show()"
      ]
    }
  ],
  "metadata": {
    "kernelspec": {
      "display_name": "Python 3",
      "name": "python3"
    },
    "language_info": {
      "codemirror_mode": {
        "name": "ipython",
        "version": 3
      },
      "file_extension": ".py",
      "mimetype": "text/x-python",
      "name": "python",
      "nbconvert_exporter": "python",
      "pygments_lexer": "ipython3",
      "version": "3.10.6"
    },
    "orig_nbformat": 4,
    "colab": {
      "provenance": [],
      "collapsed_sections": [
        "W3Gq3o_bGy10",
        "ArzuUc8WFVOs",
        "joqj9DFyFkcq",
        "6LaO9SJLFo7p",
        "xH3J2_azF2Xh",
        "Wq2snh0iFuqi",
        "fek2zIOuF5Me",
        "8sYE30Ry5bsn"
      ],
      "gpuType": "T4"
    },
    "accelerator": "GPU"
  },
  "nbformat": 4,
  "nbformat_minor": 0
}